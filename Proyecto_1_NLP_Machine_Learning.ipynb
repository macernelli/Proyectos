{
 "cells": [
  {
   "cell_type": "markdown",
   "metadata": {},
   "source": [
    "# Proyecto 1 NLP - Machine Learning"
   ]
  },
  {
   "cell_type": "markdown",
   "metadata": {},
   "source": [
    "### OBJETIVO :  Implementar un modelo para reconocer el puntaje asignado a un ítem de Amazon a partir de la crítica que hace un/a usuario/a.\n",
    "\n",
    "### Dataset: The Multilingual Amazon Reviews Corpus"
   ]
  },
  {
   "cell_type": "markdown",
   "metadata": {},
   "source": [
    "<font color=00777>\n",
    "\n",
    "## A - Exploración de Datos\n",
    "+ Carga de los datasets\n",
    "+ Elección del dataset\n",
    "+ Pregunta sobre el dataset\n",
    "+ División del dataset\n",
    "+ Frecuencia de palabras\n",
    "+ Selecion de columnas de interés\n",
    "+ Lematización\n",
    "+ Vectorización"
   ]
  },
  {
   "cell_type": "markdown",
   "metadata": {},
   "source": [
    "<font color=00777>\n",
    "\n",
    "## B - Machine Learning - Modelización\n",
    "\n",
    "+ Separación del dataset en train y test\n",
    "+ Elección de métricas y modelos\n",
    "+ Creación de una función para graficar los resultados\n",
    "+ Naive Bayes\n",
    "+ Graficación de la matriz de confusión de Naive Bayes \n",
    "+ Random Forest Classifier\n",
    "+ Graficación de la matriz de confusión de Random Forest Classifier\n",
    "+ Respuesta a la pregunta sobre el dataset\n",
    "+ Optimización de parámetros de Random Forest Classifier\n",
    "+ Mejores parámetros de Random Forest Classifier\n",
    "+ Random Forest Classifier Optimizado\n",
    "+ Graficación de las palabras que está usando el modelo para predecir, importancia de las features."
   ]
  },
  {
   "cell_type": "markdown",
   "metadata": {},
   "source": [
    "<font color=00777>\n",
    "\n",
    "## C - Investigación\n",
    "\n",
    "+ Evaluación de los resultados y propuesta de mejora\n",
    "+ Creación del dataset Binario\n",
    "+ Flujo de trabajo\n",
    "+ Evaluación de resultados con el dataset Binario\n",
    "+ Flujo de trabajo con dataset de training de 200000 instancias\n",
    "+ Mejores parámetros para Random Forest Classifier en dataset Binario con dataset de training\n",
    "+ Random Forest Classifier Optimizado en dataset Binario con dataset de training\n"
   ]
  },
  {
   "cell_type": "markdown",
   "metadata": {},
   "source": [
    "<font color=00777>\n",
    "\n",
    "## Conclusiones y proyecto\n"
   ]
  },
  {
   "cell_type": "markdown",
   "metadata": {},
   "source": [
    "<font color=00777>\n",
    "\n",
    "# A - Exploración de Datos"
   ]
  },
  {
   "cell_type": "markdown",
   "metadata": {},
   "source": [
    "  <font color=00777>_______________**Carga de los datasets**</font> \n",
    "   \n",
    " + Se cargan y exploran los 3 datasets y las librerías necesarias\n",
    "\n",
    " + Se verifica que los 3 están equilibrados en relación a la asignación de la cantidad de estrellas.\n"
   ]
  },
  {
   "cell_type": "code",
   "execution_count": 1,
   "metadata": {},
   "outputs": [
    {
     "name": "stderr",
     "output_type": "stream",
     "text": [
      "[nltk_data] Downloading package punkt to\n",
      "[nltk_data]     C:\\Users\\macer\\AppData\\Roaming\\nltk_data...\n",
      "[nltk_data]   Package punkt is already up-to-date!\n",
      "[nltk_data] Downloading package stopwords to\n",
      "[nltk_data]     C:\\Users\\macer\\AppData\\Roaming\\nltk_data...\n",
      "[nltk_data]   Package stopwords is already up-to-date!\n"
     ]
    },
    {
     "data": {
      "text/plain": [
       "True"
      ]
     },
     "execution_count": 1,
     "metadata": {},
     "output_type": "execute_result"
    }
   ],
   "source": [
    "import itertools\n",
    "import pandas as pd\n",
    "import numpy as np\n",
    "amazon_test = pd.read_json('dataset_es_test.json', lines= True)\n",
    "amazon_train = pd.read_json('dataset_es_train.json', lines= True)\n",
    "amazon_dev = pd.read_json('dataset_es_dev.json', lines= True)\n",
    "import matplotlib.pyplot as plt\n",
    "import seaborn as sns\n",
    "sns.set()\n",
    "\n",
    "import nltk\n",
    "\n",
    "# Esto sirve para configurar NLTK. La primera vez puede tardar un poco\n",
    "nltk.download('punkt')\n",
    "nltk.download('stopwords')\n"
   ]
  },
  {
   "cell_type": "code",
   "execution_count": 95,
   "metadata": {},
   "outputs": [
    {
     "data": {
      "text/plain": [
       "(5000, 8)"
      ]
     },
     "execution_count": 95,
     "metadata": {},
     "output_type": "execute_result"
    }
   ],
   "source": [
    "dataset1 = pd.read_json('dataset_es_test.json', lines= True)\n",
    "dataset1.shape"
   ]
  },
  {
   "cell_type": "code",
   "execution_count": 96,
   "metadata": {},
   "outputs": [
    {
     "data": {
      "text/plain": [
       "(200000, 8)"
      ]
     },
     "execution_count": 96,
     "metadata": {},
     "output_type": "execute_result"
    }
   ],
   "source": [
    "dataset2 = pd.read_json('dataset_es_train.json', lines= True)\n",
    "dataset2.shape"
   ]
  },
  {
   "cell_type": "code",
   "execution_count": 97,
   "metadata": {},
   "outputs": [
    {
     "data": {
      "text/plain": [
       "(5000, 8)"
      ]
     },
     "execution_count": 97,
     "metadata": {},
     "output_type": "execute_result"
    }
   ],
   "source": [
    "dataset3 = pd.read_json('dataset_es_dev.json', lines= True)\n",
    "dataset3.shape"
   ]
  },
  {
   "cell_type": "code",
   "execution_count": 98,
   "metadata": {},
   "outputs": [
    {
     "data": {
      "image/png": "[encoded data removed]",
      "text/plain": [
       "<Figure size 432x288 with 1 Axes>"
      ]
     },
     "metadata": {},
     "output_type": "display_data"
    }
   ],
   "source": [
    "sns.countplot(dataset1.stars)\n",
    "plt.show()"
   ]
  },
  {
   "cell_type": "code",
   "execution_count": 103,
   "metadata": {},
   "outputs": [
    {
     "data": {
      "image/png": "[encoded data removed]",
      "text/plain": [
       "<Figure size 432x288 with 1 Axes>"
      ]
     },
     "metadata": {},
     "output_type": "display_data"
    }
   ],
   "source": [
    "sns.countplot(dataset2.stars)\n",
    "plt.show()"
   ]
  },
  {
   "cell_type": "code",
   "execution_count": 104,
   "metadata": {},
   "outputs": [
    {
     "data": {
      "image/png": "[encoded data removed]",
      "text/plain": [
       "<Figure size 432x288 with 1 Axes>"
      ]
     },
     "metadata": {},
     "output_type": "display_data"
    }
   ],
   "source": [
    "sns.countplot(dataset3.stars)\n",
    "plt.show()"
   ]
  },
  {
   "cell_type": "markdown",
   "metadata": {},
   "source": [
    " <font color=00777>_______________**Elección del dataset**</font> \n",
    "   \n",
    " + Habiendo comprobado que los 3 datasets tienen la misma distribucuón, se elige para comenzar el 'dataset_es_dev.json' (development) que es el dataset para desarrollo, con solo 4000 intancias que será más agil computacionalmente para trabajar.\n",
    " + Se imprime solo una parte del dataset para inspeccionarlo, a modo representativo, aunque se leyeron muchas instancias con todas las calificaciones de 1 a 5 estrellas."
   ]
  },
  {
   "cell_type": "code",
   "execution_count": 102,
   "metadata": {},
   "outputs": [
    {
     "data": {
      "text/html": [
       "<div>\n",
       "<style scoped>\n",
       "    .dataframe tbody tr th:only-of-type {\n",
       "        vertical-align: middle;\n",
       "    }\n",
       "\n",
       "    .dataframe tbody tr th {\n",
       "        vertical-align: top;\n",
       "    }\n",
       "\n",
       "    .dataframe thead th {\n",
       "        text-align: right;\n",
       "    }\n",
       "</style>\n",
       "<table border=\"1\" class=\"dataframe\">\n",
       "  <thead>\n",
       "    <tr style=\"text-align: right;\">\n",
       "      <th></th>\n",
       "      <th>review_id</th>\n",
       "      <th>product_id</th>\n",
       "      <th>reviewer_id</th>\n",
       "      <th>stars</th>\n",
       "      <th>review_body</th>\n",
       "      <th>review_title</th>\n",
       "      <th>language</th>\n",
       "      <th>product_category</th>\n",
       "    </tr>\n",
       "  </thead>\n",
       "  <tbody>\n",
       "    <tr>\n",
       "      <th>0</th>\n",
       "      <td>es_0417480</td>\n",
       "      <td>product_es_0873923</td>\n",
       "      <td>reviewer_es_0672978</td>\n",
       "      <td>1</td>\n",
       "      <td>Malisimo, muy grande demasiado aparatoso y mal...</td>\n",
       "      <td>Mala compra</td>\n",
       "      <td>es</td>\n",
       "      <td>wireless</td>\n",
       "    </tr>\n",
       "    <tr>\n",
       "      <th>1</th>\n",
       "      <td>es_0180432</td>\n",
       "      <td>product_es_0713146</td>\n",
       "      <td>reviewer_es_0100858</td>\n",
       "      <td>1</td>\n",
       "      <td>No he recibido el pedido no la devolución</td>\n",
       "      <td>No lo he recibido</td>\n",
       "      <td>es</td>\n",
       "      <td>apparel</td>\n",
       "    </tr>\n",
       "    <tr>\n",
       "      <th>2</th>\n",
       "      <td>es_0144850</td>\n",
       "      <td>product_es_0356874</td>\n",
       "      <td>reviewer_es_0486447</td>\n",
       "      <td>1</td>\n",
       "      <td>Tengo que buscar otro sistema, este no funcion...</td>\n",
       "      <td>Que no aprieta bien en el manillar</td>\n",
       "      <td>es</td>\n",
       "      <td>sports</td>\n",
       "    </tr>\n",
       "    <tr>\n",
       "      <th>3</th>\n",
       "      <td>es_0339629</td>\n",
       "      <td>product_es_0939832</td>\n",
       "      <td>reviewer_es_0894703</td>\n",
       "      <td>1</td>\n",
       "      <td>Utilicé las brocas de menor diámetro y se me d...</td>\n",
       "      <td>Brocas de mantequilla</td>\n",
       "      <td>es</td>\n",
       "      <td>home_improvement</td>\n",
       "    </tr>\n",
       "    <tr>\n",
       "      <th>4</th>\n",
       "      <td>es_0858362</td>\n",
       "      <td>product_es_0489066</td>\n",
       "      <td>reviewer_es_0887663</td>\n",
       "      <td>1</td>\n",
       "      <td>No me gusta su olor a viejo y aspecto malo</td>\n",
       "      <td>No me gusta</td>\n",
       "      <td>es</td>\n",
       "      <td>beauty</td>\n",
       "    </tr>\n",
       "    <tr>\n",
       "      <th>5</th>\n",
       "      <td>es_0729140</td>\n",
       "      <td>product_es_0286879</td>\n",
       "      <td>reviewer_es_0041024</td>\n",
       "      <td>1</td>\n",
       "      <td>Hola, después de recoger el paquete me ha lleg...</td>\n",
       "      <td>Bolas rotas</td>\n",
       "      <td>es</td>\n",
       "      <td>home</td>\n",
       "    </tr>\n",
       "    <tr>\n",
       "      <th>6</th>\n",
       "      <td>es_0475220</td>\n",
       "      <td>product_es_0313511</td>\n",
       "      <td>reviewer_es_0821388</td>\n",
       "      <td>1</td>\n",
       "      <td>A parte de no poder elegir color, te envian el...</td>\n",
       "      <td>A parte de no poder elegir color...</td>\n",
       "      <td>es</td>\n",
       "      <td>home</td>\n",
       "    </tr>\n",
       "    <tr>\n",
       "      <th>7</th>\n",
       "      <td>es_0288584</td>\n",
       "      <td>product_es_0468628</td>\n",
       "      <td>reviewer_es_0429329</td>\n",
       "      <td>1</td>\n",
       "      <td>Muy baja calidad de ahí si precio. Esta compra...</td>\n",
       "      <td>Tapa pantalla</td>\n",
       "      <td>es</td>\n",
       "      <td>wireless</td>\n",
       "    </tr>\n",
       "    <tr>\n",
       "      <th>8</th>\n",
       "      <td>es_0975526</td>\n",
       "      <td>product_es_0025866</td>\n",
       "      <td>reviewer_es_0294670</td>\n",
       "      <td>1</td>\n",
       "      <td>El producto sale como entregado pero yo no he ...</td>\n",
       "      <td>NO HE RECIBIDO EL PRODUCTO</td>\n",
       "      <td>es</td>\n",
       "      <td>home_improvement</td>\n",
       "    </tr>\n",
       "    <tr>\n",
       "      <th>9</th>\n",
       "      <td>es_0337413</td>\n",
       "      <td>product_es_0433801</td>\n",
       "      <td>reviewer_es_0475664</td>\n",
       "      <td>1</td>\n",
       "      <td>No lo recomiendo, no se pega y acaba despegandose</td>\n",
       "      <td>Una patata.</td>\n",
       "      <td>es</td>\n",
       "      <td>wireless</td>\n",
       "    </tr>\n",
       "  </tbody>\n",
       "</table>\n",
       "</div>"
      ],
      "text/plain": [
       "    review_id          product_id          reviewer_id  stars  \\\n",
       "0  es_0417480  product_es_0873923  reviewer_es_0672978      1   \n",
       "1  es_0180432  product_es_0713146  reviewer_es_0100858      1   \n",
       "2  es_0144850  product_es_0356874  reviewer_es_0486447      1   \n",
       "3  es_0339629  product_es_0939832  reviewer_es_0894703      1   \n",
       "4  es_0858362  product_es_0489066  reviewer_es_0887663      1   \n",
       "5  es_0729140  product_es_0286879  reviewer_es_0041024      1   \n",
       "6  es_0475220  product_es_0313511  reviewer_es_0821388      1   \n",
       "7  es_0288584  product_es_0468628  reviewer_es_0429329      1   \n",
       "8  es_0975526  product_es_0025866  reviewer_es_0294670      1   \n",
       "9  es_0337413  product_es_0433801  reviewer_es_0475664      1   \n",
       "\n",
       "                                         review_body  \\\n",
       "0  Malisimo, muy grande demasiado aparatoso y mal...   \n",
       "1          No he recibido el pedido no la devolución   \n",
       "2  Tengo que buscar otro sistema, este no funcion...   \n",
       "3  Utilicé las brocas de menor diámetro y se me d...   \n",
       "4         No me gusta su olor a viejo y aspecto malo   \n",
       "5  Hola, después de recoger el paquete me ha lleg...   \n",
       "6  A parte de no poder elegir color, te envian el...   \n",
       "7  Muy baja calidad de ahí si precio. Esta compra...   \n",
       "8  El producto sale como entregado pero yo no he ...   \n",
       "9  No lo recomiendo, no se pega y acaba despegandose   \n",
       "\n",
       "                          review_title language  product_category  \n",
       "0                          Mala compra       es          wireless  \n",
       "1                    No lo he recibido       es           apparel  \n",
       "2   Que no aprieta bien en el manillar       es            sports  \n",
       "3                Brocas de mantequilla       es  home_improvement  \n",
       "4                          No me gusta       es            beauty  \n",
       "5                          Bolas rotas       es              home  \n",
       "6  A parte de no poder elegir color...       es              home  \n",
       "7                        Tapa pantalla       es          wireless  \n",
       "8           NO HE RECIBIDO EL PRODUCTO       es  home_improvement  \n",
       "9                          Una patata.       es          wireless  "
      ]
     },
     "execution_count": 102,
     "metadata": {},
     "output_type": "execute_result"
    }
   ],
   "source": [
    "dataset3.head(10)"
   ]
  },
  {
   "cell_type": "markdown",
   "metadata": {},
   "source": [
    "<font color=00777>______________**Pregunta sobre el dataset**</font> \n",
    "+ Cuales palabras son más frecuentes en cada categoría\n",
    "+ Cómo influyen en el comportamiento del modelo de ML\n"
   ]
  },
  {
   "cell_type": "markdown",
   "metadata": {},
   "source": [
    "<font color=00777>______________**División del dataset**</font> \n",
    "\n",
    "+ Se divide en 5 datasets 1 para cada calificación de estrellas\n",
    "+ Se inpeccionó cada dataset y se imprime una parte a modo representativo.\n",
    "+ Se decide que además de la columna de 'stars' que califica el producto y la experiencia de la compra, se trabajará unicamente con la columna 'review_title'. Habiendo inspeccionado los títulos y los comentarios de las experiencia de compra,con cada una de las distintas calificaciones, se llega a la conclusión que el comprador ya hizo mucho trabajo de síntesis al tener que colocar un título antes de ingresar el comentario. Por lo tanto de alguna manera ya adelantó parte del procesamiento que necesitamos hacer, si leemos con detenimiento hay mucho más sentimiento en los títulos que en los comentarios donde el mismo se diluye. "
   ]
  },
  {
   "cell_type": "code",
   "execution_count": 105,
   "metadata": {},
   "outputs": [
    {
     "data": {
      "text/html": [
       "<div>\n",
       "<style scoped>\n",
       "    .dataframe tbody tr th:only-of-type {\n",
       "        vertical-align: middle;\n",
       "    }\n",
       "\n",
       "    .dataframe tbody tr th {\n",
       "        vertical-align: top;\n",
       "    }\n",
       "\n",
       "    .dataframe thead th {\n",
       "        text-align: right;\n",
       "    }\n",
       "</style>\n",
       "<table border=\"1\" class=\"dataframe\">\n",
       "  <thead>\n",
       "    <tr style=\"text-align: right;\">\n",
       "      <th></th>\n",
       "      <th>review_id</th>\n",
       "      <th>product_id</th>\n",
       "      <th>reviewer_id</th>\n",
       "      <th>stars</th>\n",
       "      <th>review_body</th>\n",
       "      <th>review_title</th>\n",
       "      <th>language</th>\n",
       "      <th>product_category</th>\n",
       "    </tr>\n",
       "  </thead>\n",
       "  <tbody>\n",
       "    <tr>\n",
       "      <th>0</th>\n",
       "      <td>es_0417480</td>\n",
       "      <td>product_es_0873923</td>\n",
       "      <td>reviewer_es_0672978</td>\n",
       "      <td>1</td>\n",
       "      <td>Malisimo, muy grande demasiado aparatoso y mal...</td>\n",
       "      <td>Mala compra</td>\n",
       "      <td>es</td>\n",
       "      <td>wireless</td>\n",
       "    </tr>\n",
       "    <tr>\n",
       "      <th>1</th>\n",
       "      <td>es_0180432</td>\n",
       "      <td>product_es_0713146</td>\n",
       "      <td>reviewer_es_0100858</td>\n",
       "      <td>1</td>\n",
       "      <td>No he recibido el pedido no la devolución</td>\n",
       "      <td>No lo he recibido</td>\n",
       "      <td>es</td>\n",
       "      <td>apparel</td>\n",
       "    </tr>\n",
       "    <tr>\n",
       "      <th>2</th>\n",
       "      <td>es_0144850</td>\n",
       "      <td>product_es_0356874</td>\n",
       "      <td>reviewer_es_0486447</td>\n",
       "      <td>1</td>\n",
       "      <td>Tengo que buscar otro sistema, este no funcion...</td>\n",
       "      <td>Que no aprieta bien en el manillar</td>\n",
       "      <td>es</td>\n",
       "      <td>sports</td>\n",
       "    </tr>\n",
       "    <tr>\n",
       "      <th>3</th>\n",
       "      <td>es_0339629</td>\n",
       "      <td>product_es_0939832</td>\n",
       "      <td>reviewer_es_0894703</td>\n",
       "      <td>1</td>\n",
       "      <td>Utilicé las brocas de menor diámetro y se me d...</td>\n",
       "      <td>Brocas de mantequilla</td>\n",
       "      <td>es</td>\n",
       "      <td>home_improvement</td>\n",
       "    </tr>\n",
       "    <tr>\n",
       "      <th>4</th>\n",
       "      <td>es_0858362</td>\n",
       "      <td>product_es_0489066</td>\n",
       "      <td>reviewer_es_0887663</td>\n",
       "      <td>1</td>\n",
       "      <td>No me gusta su olor a viejo y aspecto malo</td>\n",
       "      <td>No me gusta</td>\n",
       "      <td>es</td>\n",
       "      <td>beauty</td>\n",
       "    </tr>\n",
       "    <tr>\n",
       "      <th>5</th>\n",
       "      <td>es_0729140</td>\n",
       "      <td>product_es_0286879</td>\n",
       "      <td>reviewer_es_0041024</td>\n",
       "      <td>1</td>\n",
       "      <td>Hola, después de recoger el paquete me ha lleg...</td>\n",
       "      <td>Bolas rotas</td>\n",
       "      <td>es</td>\n",
       "      <td>home</td>\n",
       "    </tr>\n",
       "    <tr>\n",
       "      <th>6</th>\n",
       "      <td>es_0475220</td>\n",
       "      <td>product_es_0313511</td>\n",
       "      <td>reviewer_es_0821388</td>\n",
       "      <td>1</td>\n",
       "      <td>A parte de no poder elegir color, te envian el...</td>\n",
       "      <td>A parte de no poder elegir color...</td>\n",
       "      <td>es</td>\n",
       "      <td>home</td>\n",
       "    </tr>\n",
       "    <tr>\n",
       "      <th>7</th>\n",
       "      <td>es_0288584</td>\n",
       "      <td>product_es_0468628</td>\n",
       "      <td>reviewer_es_0429329</td>\n",
       "      <td>1</td>\n",
       "      <td>Muy baja calidad de ahí si precio. Esta compra...</td>\n",
       "      <td>Tapa pantalla</td>\n",
       "      <td>es</td>\n",
       "      <td>wireless</td>\n",
       "    </tr>\n",
       "    <tr>\n",
       "      <th>8</th>\n",
       "      <td>es_0975526</td>\n",
       "      <td>product_es_0025866</td>\n",
       "      <td>reviewer_es_0294670</td>\n",
       "      <td>1</td>\n",
       "      <td>El producto sale como entregado pero yo no he ...</td>\n",
       "      <td>NO HE RECIBIDO EL PRODUCTO</td>\n",
       "      <td>es</td>\n",
       "      <td>home_improvement</td>\n",
       "    </tr>\n",
       "    <tr>\n",
       "      <th>9</th>\n",
       "      <td>es_0337413</td>\n",
       "      <td>product_es_0433801</td>\n",
       "      <td>reviewer_es_0475664</td>\n",
       "      <td>1</td>\n",
       "      <td>No lo recomiendo, no se pega y acaba despegandose</td>\n",
       "      <td>Una patata.</td>\n",
       "      <td>es</td>\n",
       "      <td>wireless</td>\n",
       "    </tr>\n",
       "  </tbody>\n",
       "</table>\n",
       "</div>"
      ],
      "text/plain": [
       "    review_id          product_id          reviewer_id  stars  \\\n",
       "0  es_0417480  product_es_0873923  reviewer_es_0672978      1   \n",
       "1  es_0180432  product_es_0713146  reviewer_es_0100858      1   \n",
       "2  es_0144850  product_es_0356874  reviewer_es_0486447      1   \n",
       "3  es_0339629  product_es_0939832  reviewer_es_0894703      1   \n",
       "4  es_0858362  product_es_0489066  reviewer_es_0887663      1   \n",
       "5  es_0729140  product_es_0286879  reviewer_es_0041024      1   \n",
       "6  es_0475220  product_es_0313511  reviewer_es_0821388      1   \n",
       "7  es_0288584  product_es_0468628  reviewer_es_0429329      1   \n",
       "8  es_0975526  product_es_0025866  reviewer_es_0294670      1   \n",
       "9  es_0337413  product_es_0433801  reviewer_es_0475664      1   \n",
       "\n",
       "                                         review_body  \\\n",
       "0  Malisimo, muy grande demasiado aparatoso y mal...   \n",
       "1          No he recibido el pedido no la devolución   \n",
       "2  Tengo que buscar otro sistema, este no funcion...   \n",
       "3  Utilicé las brocas de menor diámetro y se me d...   \n",
       "4         No me gusta su olor a viejo y aspecto malo   \n",
       "5  Hola, después de recoger el paquete me ha lleg...   \n",
       "6  A parte de no poder elegir color, te envian el...   \n",
       "7  Muy baja calidad de ahí si precio. Esta compra...   \n",
       "8  El producto sale como entregado pero yo no he ...   \n",
       "9  No lo recomiendo, no se pega y acaba despegandose   \n",
       "\n",
       "                          review_title language  product_category  \n",
       "0                          Mala compra       es          wireless  \n",
       "1                    No lo he recibido       es           apparel  \n",
       "2   Que no aprieta bien en el manillar       es            sports  \n",
       "3                Brocas de mantequilla       es  home_improvement  \n",
       "4                          No me gusta       es            beauty  \n",
       "5                          Bolas rotas       es              home  \n",
       "6  A parte de no poder elegir color...       es              home  \n",
       "7                        Tapa pantalla       es          wireless  \n",
       "8           NO HE RECIBIDO EL PRODUCTO       es  home_improvement  \n",
       "9                          Una patata.       es          wireless  "
      ]
     },
     "execution_count": 105,
     "metadata": {},
     "output_type": "execute_result"
    }
   ],
   "source": [
    "dataset_1_estrella = dataset3[dataset3.stars==1]\n",
    "dataset_1_estrella.head(10)"
   ]
  },
  {
   "cell_type": "code",
   "execution_count": 106,
   "metadata": {},
   "outputs": [
    {
     "data": {
      "text/html": [
       "<div>\n",
       "<style scoped>\n",
       "    .dataframe tbody tr th:only-of-type {\n",
       "        vertical-align: middle;\n",
       "    }\n",
       "\n",
       "    .dataframe tbody tr th {\n",
       "        vertical-align: top;\n",
       "    }\n",
       "\n",
       "    .dataframe thead th {\n",
       "        text-align: right;\n",
       "    }\n",
       "</style>\n",
       "<table border=\"1\" class=\"dataframe\">\n",
       "  <thead>\n",
       "    <tr style=\"text-align: right;\">\n",
       "      <th></th>\n",
       "      <th>review_id</th>\n",
       "      <th>product_id</th>\n",
       "      <th>reviewer_id</th>\n",
       "      <th>stars</th>\n",
       "      <th>review_body</th>\n",
       "      <th>review_title</th>\n",
       "      <th>language</th>\n",
       "      <th>product_category</th>\n",
       "    </tr>\n",
       "  </thead>\n",
       "  <tbody>\n",
       "    <tr>\n",
       "      <th>1000</th>\n",
       "      <td>es_0118732</td>\n",
       "      <td>product_es_0968323</td>\n",
       "      <td>reviewer_es_0145809</td>\n",
       "      <td>2</td>\n",
       "      <td>Me han enviado algo completamente diferente. E...</td>\n",
       "      <td>Muy mal</td>\n",
       "      <td>es</td>\n",
       "      <td>home</td>\n",
       "    </tr>\n",
       "    <tr>\n",
       "      <th>1001</th>\n",
       "      <td>es_0696968</td>\n",
       "      <td>product_es_0860895</td>\n",
       "      <td>reviewer_es_0999762</td>\n",
       "      <td>2</td>\n",
       "      <td>En menos de 2 semanas de uso una de las mangas...</td>\n",
       "      <td>Baja calidad de producto</td>\n",
       "      <td>es</td>\n",
       "      <td>kitchen</td>\n",
       "    </tr>\n",
       "    <tr>\n",
       "      <th>1002</th>\n",
       "      <td>es_0874902</td>\n",
       "      <td>product_es_0170859</td>\n",
       "      <td>reviewer_es_0981966</td>\n",
       "      <td>2</td>\n",
       "      <td>Hicimos el pedido de la barrera, hasta ahí tod...</td>\n",
       "      <td>Decepcionados con el embalaje y el estado del ...</td>\n",
       "      <td>es</td>\n",
       "      <td>baby_product</td>\n",
       "    </tr>\n",
       "    <tr>\n",
       "      <th>1003</th>\n",
       "      <td>es_0773654</td>\n",
       "      <td>product_es_0429247</td>\n",
       "      <td>reviewer_es_0191603</td>\n",
       "      <td>2</td>\n",
       "      <td>Queda grande no es una S pero se puede arregla...</td>\n",
       "      <td>Mas o menos</td>\n",
       "      <td>es</td>\n",
       "      <td>apparel</td>\n",
       "    </tr>\n",
       "    <tr>\n",
       "      <th>1004</th>\n",
       "      <td>es_0532571</td>\n",
       "      <td>product_es_0293429</td>\n",
       "      <td>reviewer_es_0799746</td>\n",
       "      <td>2</td>\n",
       "      <td>En 5 días de uso se ha roto el pulsador de pue...</td>\n",
       "      <td>Poca calidad</td>\n",
       "      <td>es</td>\n",
       "      <td>home_improvement</td>\n",
       "    </tr>\n",
       "    <tr>\n",
       "      <th>1005</th>\n",
       "      <td>es_0630193</td>\n",
       "      <td>product_es_0555678</td>\n",
       "      <td>reviewer_es_0322978</td>\n",
       "      <td>2</td>\n",
       "      <td>No cortan casi nada, a la niña no le gustan po...</td>\n",
       "      <td>Casi de juguete</td>\n",
       "      <td>es</td>\n",
       "      <td>office_product</td>\n",
       "    </tr>\n",
       "    <tr>\n",
       "      <th>1006</th>\n",
       "      <td>es_0420295</td>\n",
       "      <td>product_es_0493109</td>\n",
       "      <td>reviewer_es_0393674</td>\n",
       "      <td>2</td>\n",
       "      <td>Pues para una piscina 3 x 2 metros con 80cm en...</td>\n",
       "      <td>Podria ser mucho mejor</td>\n",
       "      <td>es</td>\n",
       "      <td>lawn_and_garden</td>\n",
       "    </tr>\n",
       "    <tr>\n",
       "      <th>1007</th>\n",
       "      <td>es_0655101</td>\n",
       "      <td>product_es_0930447</td>\n",
       "      <td>reviewer_es_0215569</td>\n",
       "      <td>2</td>\n",
       "      <td>PUES LO DICHO, LO COMPRE PARA MI TABLET DE 7, ...</td>\n",
       "      <td>LA TABLET NO ME ENCAJO, LA DUNDA QUEDABA GRANDE</td>\n",
       "      <td>es</td>\n",
       "      <td>other</td>\n",
       "    </tr>\n",
       "    <tr>\n",
       "      <th>1008</th>\n",
       "      <td>es_0205862</td>\n",
       "      <td>product_es_0267139</td>\n",
       "      <td>reviewer_es_0349067</td>\n",
       "      <td>2</td>\n",
       "      <td>Las cuchillas son bastante malas, no se si es ...</td>\n",
       "      <td>Cuchillas de afeitar</td>\n",
       "      <td>es</td>\n",
       "      <td>drugstore</td>\n",
       "    </tr>\n",
       "    <tr>\n",
       "      <th>1009</th>\n",
       "      <td>es_0558117</td>\n",
       "      <td>product_es_0789412</td>\n",
       "      <td>reviewer_es_0394355</td>\n",
       "      <td>2</td>\n",
       "      <td>La impresión esta mal hecha, el libro tiene qu...</td>\n",
       "      <td>Venia impreso al reves</td>\n",
       "      <td>es</td>\n",
       "      <td>book</td>\n",
       "    </tr>\n",
       "  </tbody>\n",
       "</table>\n",
       "</div>"
      ],
      "text/plain": [
       "       review_id          product_id          reviewer_id  stars  \\\n",
       "1000  es_0118732  product_es_0968323  reviewer_es_0145809      2   \n",
       "1001  es_0696968  product_es_0860895  reviewer_es_0999762      2   \n",
       "1002  es_0874902  product_es_0170859  reviewer_es_0981966      2   \n",
       "1003  es_0773654  product_es_0429247  reviewer_es_0191603      2   \n",
       "1004  es_0532571  product_es_0293429  reviewer_es_0799746      2   \n",
       "1005  es_0630193  product_es_0555678  reviewer_es_0322978      2   \n",
       "1006  es_0420295  product_es_0493109  reviewer_es_0393674      2   \n",
       "1007  es_0655101  product_es_0930447  reviewer_es_0215569      2   \n",
       "1008  es_0205862  product_es_0267139  reviewer_es_0349067      2   \n",
       "1009  es_0558117  product_es_0789412  reviewer_es_0394355      2   \n",
       "\n",
       "                                            review_body  \\\n",
       "1000  Me han enviado algo completamente diferente. E...   \n",
       "1001  En menos de 2 semanas de uso una de las mangas...   \n",
       "1002  Hicimos el pedido de la barrera, hasta ahí tod...   \n",
       "1003  Queda grande no es una S pero se puede arregla...   \n",
       "1004  En 5 días de uso se ha roto el pulsador de pue...   \n",
       "1005  No cortan casi nada, a la niña no le gustan po...   \n",
       "1006  Pues para una piscina 3 x 2 metros con 80cm en...   \n",
       "1007  PUES LO DICHO, LO COMPRE PARA MI TABLET DE 7, ...   \n",
       "1008  Las cuchillas son bastante malas, no se si es ...   \n",
       "1009  La impresión esta mal hecha, el libro tiene qu...   \n",
       "\n",
       "                                           review_title language  \\\n",
       "1000                                            Muy mal       es   \n",
       "1001                           Baja calidad de producto       es   \n",
       "1002  Decepcionados con el embalaje y el estado del ...       es   \n",
       "1003                                        Mas o menos       es   \n",
       "1004                                       Poca calidad       es   \n",
       "1005                                    Casi de juguete       es   \n",
       "1006                             Podria ser mucho mejor       es   \n",
       "1007    LA TABLET NO ME ENCAJO, LA DUNDA QUEDABA GRANDE       es   \n",
       "1008                               Cuchillas de afeitar       es   \n",
       "1009                             Venia impreso al reves       es   \n",
       "\n",
       "      product_category  \n",
       "1000              home  \n",
       "1001           kitchen  \n",
       "1002      baby_product  \n",
       "1003           apparel  \n",
       "1004  home_improvement  \n",
       "1005    office_product  \n",
       "1006   lawn_and_garden  \n",
       "1007             other  \n",
       "1008         drugstore  \n",
       "1009              book  "
      ]
     },
     "execution_count": 106,
     "metadata": {},
     "output_type": "execute_result"
    }
   ],
   "source": [
    "dataset_2_estrella = dataset3[dataset3.stars==2]\n",
    "dataset_2_estrella.head(10)"
   ]
  },
  {
   "cell_type": "code",
   "execution_count": 107,
   "metadata": {},
   "outputs": [
    {
     "data": {
      "text/html": [
       "<div>\n",
       "<style scoped>\n",
       "    .dataframe tbody tr th:only-of-type {\n",
       "        vertical-align: middle;\n",
       "    }\n",
       "\n",
       "    .dataframe tbody tr th {\n",
       "        vertical-align: top;\n",
       "    }\n",
       "\n",
       "    .dataframe thead th {\n",
       "        text-align: right;\n",
       "    }\n",
       "</style>\n",
       "<table border=\"1\" class=\"dataframe\">\n",
       "  <thead>\n",
       "    <tr style=\"text-align: right;\">\n",
       "      <th></th>\n",
       "      <th>review_id</th>\n",
       "      <th>product_id</th>\n",
       "      <th>reviewer_id</th>\n",
       "      <th>stars</th>\n",
       "      <th>review_body</th>\n",
       "      <th>review_title</th>\n",
       "      <th>language</th>\n",
       "      <th>product_category</th>\n",
       "    </tr>\n",
       "  </thead>\n",
       "  <tbody>\n",
       "    <tr>\n",
       "      <th>2000</th>\n",
       "      <td>es_0176929</td>\n",
       "      <td>product_es_0553307</td>\n",
       "      <td>reviewer_es_0240217</td>\n",
       "      <td>3</td>\n",
       "      <td>Nos gusto por su color, tejido y calidad de es...</td>\n",
       "      <td>Encaja</td>\n",
       "      <td>es</td>\n",
       "      <td>lawn_and_garden</td>\n",
       "    </tr>\n",
       "    <tr>\n",
       "      <th>2001</th>\n",
       "      <td>es_0032372</td>\n",
       "      <td>product_es_0720285</td>\n",
       "      <td>reviewer_es_0348916</td>\n",
       "      <td>3</td>\n",
       "      <td>Ha llegado rápido. , Es más pequeña de lo que ...</td>\n",
       "      <td>Simple.</td>\n",
       "      <td>es</td>\n",
       "      <td>luggage</td>\n",
       "    </tr>\n",
       "    <tr>\n",
       "      <th>2002</th>\n",
       "      <td>es_0446630</td>\n",
       "      <td>product_es_0413759</td>\n",
       "      <td>reviewer_es_0118864</td>\n",
       "      <td>3</td>\n",
       "      <td>Me ha gustado el producto</td>\n",
       "      <td>Buen producto</td>\n",
       "      <td>es</td>\n",
       "      <td>watch</td>\n",
       "    </tr>\n",
       "    <tr>\n",
       "      <th>2003</th>\n",
       "      <td>es_0001452</td>\n",
       "      <td>product_es_0619908</td>\n",
       "      <td>reviewer_es_0037222</td>\n",
       "      <td>3</td>\n",
       "      <td>se despega rápido, lo que he hecho ha sido coc...</td>\n",
       "      <td>bien</td>\n",
       "      <td>es</td>\n",
       "      <td>kitchen</td>\n",
       "    </tr>\n",
       "    <tr>\n",
       "      <th>2004</th>\n",
       "      <td>es_0315490</td>\n",
       "      <td>product_es_0435465</td>\n",
       "      <td>reviewer_es_0988902</td>\n",
       "      <td>3</td>\n",
       "      <td>no parece tampoco muy especifico para animales...</td>\n",
       "      <td>BASICO</td>\n",
       "      <td>es</td>\n",
       "      <td>drugstore</td>\n",
       "    </tr>\n",
       "    <tr>\n",
       "      <th>2005</th>\n",
       "      <td>es_0508874</td>\n",
       "      <td>product_es_0746246</td>\n",
       "      <td>reviewer_es_0385820</td>\n",
       "      <td>3</td>\n",
       "      <td>Para pintar el casco de una lancha, destiñe. A...</td>\n",
       "      <td>Regulera</td>\n",
       "      <td>es</td>\n",
       "      <td>home_improvement</td>\n",
       "    </tr>\n",
       "    <tr>\n",
       "      <th>2006</th>\n",
       "      <td>es_0121261</td>\n",
       "      <td>product_es_0514899</td>\n",
       "      <td>reviewer_es_0322376</td>\n",
       "      <td>3</td>\n",
       "      <td>Muy buenos, la única pega es que las tapaderas...</td>\n",
       "      <td>Buen material</td>\n",
       "      <td>es</td>\n",
       "      <td>home</td>\n",
       "    </tr>\n",
       "    <tr>\n",
       "      <th>2007</th>\n",
       "      <td>es_0778601</td>\n",
       "      <td>product_es_0384552</td>\n",
       "      <td>reviewer_es_0246995</td>\n",
       "      <td>3</td>\n",
       "      <td>aceptable por su parte buen servicio</td>\n",
       "      <td>rapido</td>\n",
       "      <td>es</td>\n",
       "      <td>pet_products</td>\n",
       "    </tr>\n",
       "    <tr>\n",
       "      <th>2008</th>\n",
       "      <td>es_0745192</td>\n",
       "      <td>product_es_0045184</td>\n",
       "      <td>reviewer_es_0988448</td>\n",
       "      <td>3</td>\n",
       "      <td>Ne entra en la caja de interruptor/enchufe est...</td>\n",
       "      <td>Muy grande</td>\n",
       "      <td>es</td>\n",
       "      <td>home_improvement</td>\n",
       "    </tr>\n",
       "    <tr>\n",
       "      <th>2009</th>\n",
       "      <td>es_0877332</td>\n",
       "      <td>product_es_0982861</td>\n",
       "      <td>reviewer_es_0409408</td>\n",
       "      <td>3</td>\n",
       "      <td>Cumplen los requisitos que Yo buscaba para mí ...</td>\n",
       "      <td>Geniales.</td>\n",
       "      <td>es</td>\n",
       "      <td>furniture</td>\n",
       "    </tr>\n",
       "  </tbody>\n",
       "</table>\n",
       "</div>"
      ],
      "text/plain": [
       "       review_id          product_id          reviewer_id  stars  \\\n",
       "2000  es_0176929  product_es_0553307  reviewer_es_0240217      3   \n",
       "2001  es_0032372  product_es_0720285  reviewer_es_0348916      3   \n",
       "2002  es_0446630  product_es_0413759  reviewer_es_0118864      3   \n",
       "2003  es_0001452  product_es_0619908  reviewer_es_0037222      3   \n",
       "2004  es_0315490  product_es_0435465  reviewer_es_0988902      3   \n",
       "2005  es_0508874  product_es_0746246  reviewer_es_0385820      3   \n",
       "2006  es_0121261  product_es_0514899  reviewer_es_0322376      3   \n",
       "2007  es_0778601  product_es_0384552  reviewer_es_0246995      3   \n",
       "2008  es_0745192  product_es_0045184  reviewer_es_0988448      3   \n",
       "2009  es_0877332  product_es_0982861  reviewer_es_0409408      3   \n",
       "\n",
       "                                            review_body   review_title  \\\n",
       "2000  Nos gusto por su color, tejido y calidad de es...         Encaja   \n",
       "2001  Ha llegado rápido. , Es más pequeña de lo que ...        Simple.   \n",
       "2002                          Me ha gustado el producto  Buen producto   \n",
       "2003  se despega rápido, lo que he hecho ha sido coc...           bien   \n",
       "2004  no parece tampoco muy especifico para animales...         BASICO   \n",
       "2005  Para pintar el casco de una lancha, destiñe. A...       Regulera   \n",
       "2006  Muy buenos, la única pega es que las tapaderas...  Buen material   \n",
       "2007               aceptable por su parte buen servicio         rapido   \n",
       "2008  Ne entra en la caja de interruptor/enchufe est...     Muy grande   \n",
       "2009  Cumplen los requisitos que Yo buscaba para mí ...      Geniales.   \n",
       "\n",
       "     language  product_category  \n",
       "2000       es   lawn_and_garden  \n",
       "2001       es           luggage  \n",
       "2002       es             watch  \n",
       "2003       es           kitchen  \n",
       "2004       es         drugstore  \n",
       "2005       es  home_improvement  \n",
       "2006       es              home  \n",
       "2007       es      pet_products  \n",
       "2008       es  home_improvement  \n",
       "2009       es         furniture  "
      ]
     },
     "execution_count": 107,
     "metadata": {},
     "output_type": "execute_result"
    }
   ],
   "source": [
    "dataset_3_estrella = dataset3[dataset3.stars==3]\n",
    "dataset_3_estrella.head(10)"
   ]
  },
  {
   "cell_type": "code",
   "execution_count": 108,
   "metadata": {},
   "outputs": [
    {
     "data": {
      "text/html": [
       "<div>\n",
       "<style scoped>\n",
       "    .dataframe tbody tr th:only-of-type {\n",
       "        vertical-align: middle;\n",
       "    }\n",
       "\n",
       "    .dataframe tbody tr th {\n",
       "        vertical-align: top;\n",
       "    }\n",
       "\n",
       "    .dataframe thead th {\n",
       "        text-align: right;\n",
       "    }\n",
       "</style>\n",
       "<table border=\"1\" class=\"dataframe\">\n",
       "  <thead>\n",
       "    <tr style=\"text-align: right;\">\n",
       "      <th></th>\n",
       "      <th>review_id</th>\n",
       "      <th>product_id</th>\n",
       "      <th>reviewer_id</th>\n",
       "      <th>stars</th>\n",
       "      <th>review_body</th>\n",
       "      <th>review_title</th>\n",
       "      <th>language</th>\n",
       "      <th>product_category</th>\n",
       "    </tr>\n",
       "  </thead>\n",
       "  <tbody>\n",
       "    <tr>\n",
       "      <th>3000</th>\n",
       "      <td>es_0638126</td>\n",
       "      <td>product_es_0921838</td>\n",
       "      <td>reviewer_es_0467790</td>\n",
       "      <td>4</td>\n",
       "      <td>Son robustas y francamente cumplen con su come...</td>\n",
       "      <td>Gran juego de llaves.</td>\n",
       "      <td>es</td>\n",
       "      <td>home_improvement</td>\n",
       "    </tr>\n",
       "    <tr>\n",
       "      <th>3001</th>\n",
       "      <td>es_0957542</td>\n",
       "      <td>product_es_0016810</td>\n",
       "      <td>reviewer_es_0205107</td>\n",
       "      <td>4</td>\n",
       "      <td>Estupenda relación calidad-precio</td>\n",
       "      <td>Funcional</td>\n",
       "      <td>es</td>\n",
       "      <td>home_improvement</td>\n",
       "    </tr>\n",
       "    <tr>\n",
       "      <th>3002</th>\n",
       "      <td>es_0571992</td>\n",
       "      <td>product_es_0161938</td>\n",
       "      <td>reviewer_es_0304170</td>\n",
       "      <td>4</td>\n",
       "      <td>Lo compré para mi madre. Esta muy contenta. Es...</td>\n",
       "      <td>compacto y cómodo</td>\n",
       "      <td>es</td>\n",
       "      <td>furniture</td>\n",
       "    </tr>\n",
       "    <tr>\n",
       "      <th>3003</th>\n",
       "      <td>es_0469900</td>\n",
       "      <td>product_es_0182832</td>\n",
       "      <td>reviewer_es_0562273</td>\n",
       "      <td>4</td>\n",
       "      <td>UN POCO ESTRECHO ,PERO VALE PARA LO QUE ES,PAR...</td>\n",
       "      <td>ESTA BIEN</td>\n",
       "      <td>es</td>\n",
       "      <td>home_improvement</td>\n",
       "    </tr>\n",
       "    <tr>\n",
       "      <th>3004</th>\n",
       "      <td>es_0832100</td>\n",
       "      <td>product_es_0922601</td>\n",
       "      <td>reviewer_es_0049840</td>\n",
       "      <td>4</td>\n",
       "      <td>Le doy cuatro estrellas porque aún no lo he pr...</td>\n",
       "      <td>Nice.</td>\n",
       "      <td>es</td>\n",
       "      <td>wireless</td>\n",
       "    </tr>\n",
       "    <tr>\n",
       "      <th>3005</th>\n",
       "      <td>es_0996286</td>\n",
       "      <td>product_es_0845418</td>\n",
       "      <td>reviewer_es_0790138</td>\n",
       "      <td>4</td>\n",
       "      <td>Esta bien de precios, trae 2 packs. Son normal...</td>\n",
       "      <td>Calidad precio</td>\n",
       "      <td>es</td>\n",
       "      <td>drugstore</td>\n",
       "    </tr>\n",
       "    <tr>\n",
       "      <th>3006</th>\n",
       "      <td>es_0467067</td>\n",
       "      <td>product_es_0032571</td>\n",
       "      <td>reviewer_es_0623664</td>\n",
       "      <td>4</td>\n",
       "      <td>No me gusta las Instrucciones en ingles</td>\n",
       "      <td>Bastante completo</td>\n",
       "      <td>es</td>\n",
       "      <td>sports</td>\n",
       "    </tr>\n",
       "    <tr>\n",
       "      <th>3007</th>\n",
       "      <td>es_0052613</td>\n",
       "      <td>product_es_0423591</td>\n",
       "      <td>reviewer_es_0469066</td>\n",
       "      <td>4</td>\n",
       "      <td>Llego bien pero el último día tardo casi una s...</td>\n",
       "      <td>Cobran mucho por el envio</td>\n",
       "      <td>es</td>\n",
       "      <td>sports</td>\n",
       "    </tr>\n",
       "    <tr>\n",
       "      <th>3008</th>\n",
       "      <td>es_0911139</td>\n",
       "      <td>product_es_0123793</td>\n",
       "      <td>reviewer_es_0212350</td>\n",
       "      <td>4</td>\n",
       "      <td>Buena relación calidad precio. El único pero q...</td>\n",
       "      <td>Relación calidad precio excelente</td>\n",
       "      <td>es</td>\n",
       "      <td>personal_care_appliances</td>\n",
       "    </tr>\n",
       "    <tr>\n",
       "      <th>3009</th>\n",
       "      <td>es_0394621</td>\n",
       "      <td>product_es_0133538</td>\n",
       "      <td>reviewer_es_0828036</td>\n",
       "      <td>4</td>\n",
       "      <td>Buenas calas, duraderas y resistentes.</td>\n",
       "      <td>Buen material y buen anclaje.</td>\n",
       "      <td>es</td>\n",
       "      <td>sports</td>\n",
       "    </tr>\n",
       "  </tbody>\n",
       "</table>\n",
       "</div>"
      ],
      "text/plain": [
       "       review_id          product_id          reviewer_id  stars  \\\n",
       "3000  es_0638126  product_es_0921838  reviewer_es_0467790      4   \n",
       "3001  es_0957542  product_es_0016810  reviewer_es_0205107      4   \n",
       "3002  es_0571992  product_es_0161938  reviewer_es_0304170      4   \n",
       "3003  es_0469900  product_es_0182832  reviewer_es_0562273      4   \n",
       "3004  es_0832100  product_es_0922601  reviewer_es_0049840      4   \n",
       "3005  es_0996286  product_es_0845418  reviewer_es_0790138      4   \n",
       "3006  es_0467067  product_es_0032571  reviewer_es_0623664      4   \n",
       "3007  es_0052613  product_es_0423591  reviewer_es_0469066      4   \n",
       "3008  es_0911139  product_es_0123793  reviewer_es_0212350      4   \n",
       "3009  es_0394621  product_es_0133538  reviewer_es_0828036      4   \n",
       "\n",
       "                                            review_body  \\\n",
       "3000  Son robustas y francamente cumplen con su come...   \n",
       "3001                  Estupenda relación calidad-precio   \n",
       "3002  Lo compré para mi madre. Esta muy contenta. Es...   \n",
       "3003  UN POCO ESTRECHO ,PERO VALE PARA LO QUE ES,PAR...   \n",
       "3004  Le doy cuatro estrellas porque aún no lo he pr...   \n",
       "3005  Esta bien de precios, trae 2 packs. Son normal...   \n",
       "3006            No me gusta las Instrucciones en ingles   \n",
       "3007  Llego bien pero el último día tardo casi una s...   \n",
       "3008  Buena relación calidad precio. El único pero q...   \n",
       "3009             Buenas calas, duraderas y resistentes.   \n",
       "\n",
       "                           review_title language          product_category  \n",
       "3000              Gran juego de llaves.       es          home_improvement  \n",
       "3001                          Funcional       es          home_improvement  \n",
       "3002                  compacto y cómodo       es                 furniture  \n",
       "3003                          ESTA BIEN       es          home_improvement  \n",
       "3004                              Nice.       es                  wireless  \n",
       "3005                     Calidad precio       es                 drugstore  \n",
       "3006                  Bastante completo       es                    sports  \n",
       "3007          Cobran mucho por el envio       es                    sports  \n",
       "3008  Relación calidad precio excelente       es  personal_care_appliances  \n",
       "3009      Buen material y buen anclaje.       es                    sports  "
      ]
     },
     "execution_count": 108,
     "metadata": {},
     "output_type": "execute_result"
    }
   ],
   "source": [
    "dataset_4_estrella = dataset3[dataset3.stars==4]\n",
    "dataset_4_estrella.head(10)"
   ]
  },
  {
   "cell_type": "code",
   "execution_count": 109,
   "metadata": {},
   "outputs": [
    {
     "data": {
      "text/html": [
       "<div>\n",
       "<style scoped>\n",
       "    .dataframe tbody tr th:only-of-type {\n",
       "        vertical-align: middle;\n",
       "    }\n",
       "\n",
       "    .dataframe tbody tr th {\n",
       "        vertical-align: top;\n",
       "    }\n",
       "\n",
       "    .dataframe thead th {\n",
       "        text-align: right;\n",
       "    }\n",
       "</style>\n",
       "<table border=\"1\" class=\"dataframe\">\n",
       "  <thead>\n",
       "    <tr style=\"text-align: right;\">\n",
       "      <th></th>\n",
       "      <th>review_id</th>\n",
       "      <th>product_id</th>\n",
       "      <th>reviewer_id</th>\n",
       "      <th>stars</th>\n",
       "      <th>review_body</th>\n",
       "      <th>review_title</th>\n",
       "      <th>language</th>\n",
       "      <th>product_category</th>\n",
       "    </tr>\n",
       "  </thead>\n",
       "  <tbody>\n",
       "    <tr>\n",
       "      <th>4000</th>\n",
       "      <td>es_0973261</td>\n",
       "      <td>product_es_0163826</td>\n",
       "      <td>reviewer_es_0461590</td>\n",
       "      <td>5</td>\n",
       "      <td>Mi pareja encantada con esta adquisición, prác...</td>\n",
       "      <td>Muy Útil, ligero y hace su papel para lo que es</td>\n",
       "      <td>es</td>\n",
       "      <td>toy</td>\n",
       "    </tr>\n",
       "    <tr>\n",
       "      <th>4001</th>\n",
       "      <td>es_0285657</td>\n",
       "      <td>product_es_0396230</td>\n",
       "      <td>reviewer_es_0837511</td>\n",
       "      <td>5</td>\n",
       "      <td>En cuanto lo compré mi gato se olvidó de rasca...</td>\n",
       "      <td>Funciona</td>\n",
       "      <td>es</td>\n",
       "      <td>pet_products</td>\n",
       "    </tr>\n",
       "    <tr>\n",
       "      <th>4002</th>\n",
       "      <td>es_0777148</td>\n",
       "      <td>product_es_0566248</td>\n",
       "      <td>reviewer_es_0269131</td>\n",
       "      <td>5</td>\n",
       "      <td>Café de excelente calidad. Las cápsulas sin al...</td>\n",
       "      <td>Cápsulas compatibles con maquina nespresso rec...</td>\n",
       "      <td>es</td>\n",
       "      <td>grocery</td>\n",
       "    </tr>\n",
       "    <tr>\n",
       "      <th>4003</th>\n",
       "      <td>es_0554747</td>\n",
       "      <td>product_es_0244949</td>\n",
       "      <td>reviewer_es_0800916</td>\n",
       "      <td>5</td>\n",
       "      <td>Te atrapa desde el primer minuto!!! Lectura fá...</td>\n",
       "      <td>Te atrapa</td>\n",
       "      <td>es</td>\n",
       "      <td>digital_ebook_purchase</td>\n",
       "    </tr>\n",
       "    <tr>\n",
       "      <th>4004</th>\n",
       "      <td>es_0685602</td>\n",
       "      <td>product_es_0991354</td>\n",
       "      <td>reviewer_es_0579306</td>\n",
       "      <td>5</td>\n",
       "      <td>Está muy bien montado, y resulta muy vistoso. ...</td>\n",
       "      <td>que sea lo pedido</td>\n",
       "      <td>es</td>\n",
       "      <td>jewelry</td>\n",
       "    </tr>\n",
       "    <tr>\n",
       "      <th>4005</th>\n",
       "      <td>es_0021205</td>\n",
       "      <td>product_es_0130331</td>\n",
       "      <td>reviewer_es_0477335</td>\n",
       "      <td>5</td>\n",
       "      <td>Si te gusta el uno, este tb te gustará</td>\n",
       "      <td>Muy divertido</td>\n",
       "      <td>es</td>\n",
       "      <td>video_games</td>\n",
       "    </tr>\n",
       "    <tr>\n",
       "      <th>4006</th>\n",
       "      <td>es_0569280</td>\n",
       "      <td>product_es_0765298</td>\n",
       "      <td>reviewer_es_0141672</td>\n",
       "      <td>5</td>\n",
       "      <td>Los chicles de frutas de toda la vida...! Qued...</td>\n",
       "      <td>Los chicles más deliciosos!</td>\n",
       "      <td>es</td>\n",
       "      <td>grocery</td>\n",
       "    </tr>\n",
       "    <tr>\n",
       "      <th>4007</th>\n",
       "      <td>es_0596631</td>\n",
       "      <td>product_es_0067800</td>\n",
       "      <td>reviewer_es_0790148</td>\n",
       "      <td>5</td>\n",
       "      <td>Satisfecho con la compra. Buen vendedor. Gracias</td>\n",
       "      <td>Satifecho con la compra</td>\n",
       "      <td>es</td>\n",
       "      <td>home</td>\n",
       "    </tr>\n",
       "    <tr>\n",
       "      <th>4008</th>\n",
       "      <td>es_0600281</td>\n",
       "      <td>product_es_0804294</td>\n",
       "      <td>reviewer_es_0147386</td>\n",
       "      <td>5</td>\n",
       "      <td>Funciona correctamente. Se puede instalar tant...</td>\n",
       "      <td>Recomendable</td>\n",
       "      <td>es</td>\n",
       "      <td>automotive</td>\n",
       "    </tr>\n",
       "    <tr>\n",
       "      <th>4009</th>\n",
       "      <td>es_0512335</td>\n",
       "      <td>product_es_0728970</td>\n",
       "      <td>reviewer_es_0054982</td>\n",
       "      <td>5</td>\n",
       "      <td>Extremadamente brillante! Esta luz es genial. ...</td>\n",
       "      <td>¡Me encanta lo brillantes que son!</td>\n",
       "      <td>es</td>\n",
       "      <td>home</td>\n",
       "    </tr>\n",
       "  </tbody>\n",
       "</table>\n",
       "</div>"
      ],
      "text/plain": [
       "       review_id          product_id          reviewer_id  stars  \\\n",
       "4000  es_0973261  product_es_0163826  reviewer_es_0461590      5   \n",
       "4001  es_0285657  product_es_0396230  reviewer_es_0837511      5   \n",
       "4002  es_0777148  product_es_0566248  reviewer_es_0269131      5   \n",
       "4003  es_0554747  product_es_0244949  reviewer_es_0800916      5   \n",
       "4004  es_0685602  product_es_0991354  reviewer_es_0579306      5   \n",
       "4005  es_0021205  product_es_0130331  reviewer_es_0477335      5   \n",
       "4006  es_0569280  product_es_0765298  reviewer_es_0141672      5   \n",
       "4007  es_0596631  product_es_0067800  reviewer_es_0790148      5   \n",
       "4008  es_0600281  product_es_0804294  reviewer_es_0147386      5   \n",
       "4009  es_0512335  product_es_0728970  reviewer_es_0054982      5   \n",
       "\n",
       "                                            review_body  \\\n",
       "4000  Mi pareja encantada con esta adquisición, prác...   \n",
       "4001  En cuanto lo compré mi gato se olvidó de rasca...   \n",
       "4002  Café de excelente calidad. Las cápsulas sin al...   \n",
       "4003  Te atrapa desde el primer minuto!!! Lectura fá...   \n",
       "4004  Está muy bien montado, y resulta muy vistoso. ...   \n",
       "4005             Si te gusta el uno, este tb te gustará   \n",
       "4006  Los chicles de frutas de toda la vida...! Qued...   \n",
       "4007   Satisfecho con la compra. Buen vendedor. Gracias   \n",
       "4008  Funciona correctamente. Se puede instalar tant...   \n",
       "4009  Extremadamente brillante! Esta luz es genial. ...   \n",
       "\n",
       "                                           review_title language  \\\n",
       "4000    Muy Útil, ligero y hace su papel para lo que es       es   \n",
       "4001                                           Funciona       es   \n",
       "4002  Cápsulas compatibles con maquina nespresso rec...       es   \n",
       "4003                                          Te atrapa       es   \n",
       "4004                                  que sea lo pedido       es   \n",
       "4005                                      Muy divertido       es   \n",
       "4006                        Los chicles más deliciosos!       es   \n",
       "4007                            Satifecho con la compra       es   \n",
       "4008                                       Recomendable       es   \n",
       "4009                 ¡Me encanta lo brillantes que son!       es   \n",
       "\n",
       "            product_category  \n",
       "4000                     toy  \n",
       "4001            pet_products  \n",
       "4002                 grocery  \n",
       "4003  digital_ebook_purchase  \n",
       "4004                 jewelry  \n",
       "4005             video_games  \n",
       "4006                 grocery  \n",
       "4007                    home  \n",
       "4008              automotive  \n",
       "4009                    home  "
      ]
     },
     "execution_count": 109,
     "metadata": {},
     "output_type": "execute_result"
    }
   ],
   "source": [
    "dataset_5_estrella = dataset3[dataset3.stars==5]\n",
    "dataset_5_estrella.head(10)"
   ]
  },
  {
   "cell_type": "markdown",
   "metadata": {},
   "source": [
    "<font color=00777>______________**Frecuencia de palabras**</font> \n",
    "\n",
    "+ Se visualiza la frecuencia de palabras para cada nuevo dataset"
   ]
  },
  {
   "cell_type": "code",
   "execution_count": 153,
   "metadata": {},
   "outputs": [
    {
     "data": {
      "text/plain": [
       "['de',\n",
       " 'la',\n",
       " 'que',\n",
       " 'el',\n",
       " 'en',\n",
       " 'y',\n",
       " 'a',\n",
       " 'los',\n",
       " 'del',\n",
       " 'se',\n",
       " 'las',\n",
       " 'por',\n",
       " 'un',\n",
       " 'para',\n",
       " 'con',\n",
       " 'una',\n",
       " 'su',\n",
       " 'al',\n",
       " 'lo',\n",
       " 'como',\n",
       " 'más',\n",
       " 'pero',\n",
       " 'sus',\n",
       " 'le',\n",
       " 'ya',\n",
       " 'o',\n",
       " 'este',\n",
       " 'sí',\n",
       " 'porque',\n",
       " 'esta',\n",
       " 'entre',\n",
       " 'cuando',\n",
       " 'muy',\n",
       " 'sin',\n",
       " 'sobre',\n",
       " 'también',\n",
       " 'me',\n",
       " 'hasta',\n",
       " 'hay',\n",
       " 'donde',\n",
       " 'quien',\n",
       " 'desde',\n",
       " 'todo',\n",
       " 'nos',\n",
       " 'durante',\n",
       " 'todos',\n",
       " 'uno',\n",
       " 'les',\n",
       " 'ni',\n",
       " 'contra',\n",
       " 'otros',\n",
       " 'ese',\n",
       " 'eso',\n",
       " 'ante',\n",
       " 'ellos',\n",
       " 'e',\n",
       " 'esto',\n",
       " 'mí',\n",
       " 'antes',\n",
       " 'algunos',\n",
       " 'qué',\n",
       " 'unos',\n",
       " 'yo',\n",
       " 'otro',\n",
       " 'otras',\n",
       " 'otra',\n",
       " 'él',\n",
       " 'tanto',\n",
       " 'esa',\n",
       " 'estos',\n",
       " 'mucho',\n",
       " 'quienes',\n",
       " 'nada',\n",
       " 'muchos',\n",
       " 'cual',\n",
       " 'poco',\n",
       " 'ella',\n",
       " 'estar',\n",
       " 'estas',\n",
       " 'algunas',\n",
       " 'algo',\n",
       " 'nosotros',\n",
       " 'mi',\n",
       " 'mis',\n",
       " 'tú',\n",
       " 'te',\n",
       " 'ti',\n",
       " 'tu',\n",
       " 'tus',\n",
       " 'ellas',\n",
       " 'nosotras',\n",
       " 'vosotros',\n",
       " 'vosotras',\n",
       " 'os',\n",
       " 'mío',\n",
       " 'mía',\n",
       " 'míos',\n",
       " 'mías',\n",
       " 'tuyo',\n",
       " 'tuya',\n",
       " 'tuyos',\n",
       " 'tuyas',\n",
       " 'suyo',\n",
       " 'suya',\n",
       " 'suyos',\n",
       " 'suyas',\n",
       " 'nuestro',\n",
       " 'nuestra',\n",
       " 'nuestros',\n",
       " 'nuestras',\n",
       " 'vuestro',\n",
       " 'vuestra',\n",
       " 'vuestros',\n",
       " 'vuestras',\n",
       " 'esos',\n",
       " 'esas',\n",
       " 'estoy',\n",
       " 'estás',\n",
       " 'está',\n",
       " 'estamos',\n",
       " 'estáis',\n",
       " 'están',\n",
       " 'esté',\n",
       " 'estés',\n",
       " 'estemos',\n",
       " 'estéis',\n",
       " 'estén',\n",
       " 'estaré',\n",
       " 'estarás',\n",
       " 'estará',\n",
       " 'estaremos',\n",
       " 'estaréis',\n",
       " 'estarán',\n",
       " 'estaría',\n",
       " 'estarías',\n",
       " 'estaríamos',\n",
       " 'estaríais',\n",
       " 'estarían',\n",
       " 'estaba',\n",
       " 'estabas',\n",
       " 'estábamos',\n",
       " 'estabais',\n",
       " 'estaban',\n",
       " 'estuve',\n",
       " 'estuviste',\n",
       " 'estuvo',\n",
       " 'estuvimos',\n",
       " 'estuvisteis',\n",
       " 'estuvieron',\n",
       " 'estuviera',\n",
       " 'estuvieras',\n",
       " 'estuviéramos',\n",
       " 'estuvierais',\n",
       " 'estuvieran',\n",
       " 'estuviese',\n",
       " 'estuvieses',\n",
       " 'estuviésemos',\n",
       " 'estuvieseis',\n",
       " 'estuviesen',\n",
       " 'estando',\n",
       " 'estado',\n",
       " 'estada',\n",
       " 'estados',\n",
       " 'estadas',\n",
       " 'estad',\n",
       " 'he',\n",
       " 'has',\n",
       " 'ha',\n",
       " 'hemos',\n",
       " 'habéis',\n",
       " 'han',\n",
       " 'haya',\n",
       " 'hayas',\n",
       " 'hayamos',\n",
       " 'hayáis',\n",
       " 'hayan',\n",
       " 'habré',\n",
       " 'habrás',\n",
       " 'habrá',\n",
       " 'habremos',\n",
       " 'habréis',\n",
       " 'habrán',\n",
       " 'habría',\n",
       " 'habrías',\n",
       " 'habríamos',\n",
       " 'habríais',\n",
       " 'habrían',\n",
       " 'había',\n",
       " 'habías',\n",
       " 'habíamos',\n",
       " 'habíais',\n",
       " 'habían',\n",
       " 'hube',\n",
       " 'hubiste',\n",
       " 'hubo',\n",
       " 'hubimos',\n",
       " 'hubisteis',\n",
       " 'hubieron',\n",
       " 'hubiera',\n",
       " 'hubieras',\n",
       " 'hubiéramos',\n",
       " 'hubierais',\n",
       " 'hubieran',\n",
       " 'hubiese',\n",
       " 'hubieses',\n",
       " 'hubiésemos',\n",
       " 'hubieseis',\n",
       " 'hubiesen',\n",
       " 'habiendo',\n",
       " 'habido',\n",
       " 'habida',\n",
       " 'habidos',\n",
       " 'habidas',\n",
       " 'soy',\n",
       " 'eres',\n",
       " 'es',\n",
       " 'somos',\n",
       " 'sois',\n",
       " 'son',\n",
       " 'sea',\n",
       " 'seas',\n",
       " 'seamos',\n",
       " 'seáis',\n",
       " 'sean',\n",
       " 'seré',\n",
       " 'serás',\n",
       " 'será',\n",
       " 'seremos',\n",
       " 'seréis',\n",
       " 'serán',\n",
       " 'sería',\n",
       " 'serías',\n",
       " 'seríamos',\n",
       " 'seríais',\n",
       " 'serían',\n",
       " 'era',\n",
       " 'eras',\n",
       " 'éramos',\n",
       " 'erais',\n",
       " 'eran',\n",
       " 'fui',\n",
       " 'fuiste',\n",
       " 'fue',\n",
       " 'fuimos',\n",
       " 'fuisteis',\n",
       " 'fueron',\n",
       " 'fuera',\n",
       " 'fueras',\n",
       " 'fuéramos',\n",
       " 'fuerais',\n",
       " 'fueran',\n",
       " 'fuese',\n",
       " 'fueses',\n",
       " 'fuésemos',\n",
       " 'fueseis',\n",
       " 'fuesen',\n",
       " 'sintiendo',\n",
       " 'sentido',\n",
       " 'sentida',\n",
       " 'sentidos',\n",
       " 'sentidas',\n",
       " 'siente',\n",
       " 'sentid',\n",
       " 'tengo',\n",
       " 'tienes',\n",
       " 'tiene',\n",
       " 'tenemos',\n",
       " 'tenéis',\n",
       " 'tienen',\n",
       " 'tenga',\n",
       " 'tengas',\n",
       " 'tengamos',\n",
       " 'tengáis',\n",
       " 'tengan',\n",
       " 'tendré',\n",
       " 'tendrás',\n",
       " 'tendrá',\n",
       " 'tendremos',\n",
       " 'tendréis',\n",
       " 'tendrán',\n",
       " 'tendría',\n",
       " 'tendrías',\n",
       " 'tendríamos',\n",
       " 'tendríais',\n",
       " 'tendrían',\n",
       " 'tenía',\n",
       " 'tenías',\n",
       " 'teníamos',\n",
       " 'teníais',\n",
       " 'tenían',\n",
       " 'tuve',\n",
       " 'tuviste',\n",
       " 'tuvo',\n",
       " 'tuvimos',\n",
       " 'tuvisteis',\n",
       " 'tuvieron',\n",
       " 'tuviera',\n",
       " 'tuvieras',\n",
       " 'tuviéramos',\n",
       " 'tuvierais',\n",
       " 'tuvieran',\n",
       " 'tuviese',\n",
       " 'tuvieses',\n",
       " 'tuviésemos',\n",
       " 'tuvieseis',\n",
       " 'tuviesen',\n",
       " 'teniendo',\n",
       " 'tenido',\n",
       " 'tenida',\n",
       " 'tenidos',\n",
       " 'tenidas',\n",
       " 'tened']"
      ]
     },
     "execution_count": 153,
     "metadata": {},
     "output_type": "execute_result"
    }
   ],
   "source": [
    "stopwords = nltk.corpus.stopwords.words('spanish')\n",
    "stopwords = [palabra for palabra in stopwords if 'not' not in palabra]\n",
    "stopwords.remove('no')\n",
    "stopwords"
   ]
  },
  {
   "cell_type": "code",
   "execution_count": 110,
   "metadata": {},
   "outputs": [],
   "source": [
    "todos_Titulos_1_estrella = []\n",
    "for i in range(dataset_1_estrella.shape[0]):\n",
    "    Titulos_1_estrella = dataset_1_estrella.iloc[i].review_title\n",
    "    Titulos_1_estrella = nltk.tokenize.RegexpTokenizer(\"[\\w]+\").tokenize(Titulos_1_estrella)\n",
    "    Titulos_1_estrella = [word for word in Titulos_1_estrella if word not in stopwords]\n",
    "    todos_Titulos_1_estrella.append(Titulos_1_estrella)"
   ]
  },
  {
   "cell_type": "code",
   "execution_count": 111,
   "metadata": {},
   "outputs": [
    {
     "data": {
      "text/plain": [
       "['Mala',\n",
       " 'compra',\n",
       " 'No',\n",
       " 'recibido',\n",
       " 'Que',\n",
       " 'no',\n",
       " 'aprieta',\n",
       " 'bien',\n",
       " 'manillar',\n",
       " 'Brocas']"
      ]
     },
     "execution_count": 111,
     "metadata": {},
     "output_type": "execute_result"
    }
   ],
   "source": [
    "todos_Titulos_1_estrella = list(itertools.chain(*todos_Titulos_1_estrella))\n",
    "todos_Titulos_1_estrella[0:10]"
   ]
  },
  {
   "cell_type": "code",
   "execution_count": 112,
   "metadata": {},
   "outputs": [
    {
     "data": {
      "text/plain": [
       "FreqDist({'No': 211, 'no': 93, 'calidad': 50, 'producto': 35, 'Mala': 33, 'NO': 28, 'Se': 22, 'funciona': 22, 'Mal': 22, 'El': 21, ...})"
      ]
     },
     "execution_count": 112,
     "metadata": {},
     "output_type": "execute_result"
    }
   ],
   "source": [
    "freq_1_estrella = nltk.FreqDist(todos_Titulos_1_estrella)\n",
    "freq_1_estrella"
   ]
  },
  {
   "cell_type": "code",
   "execution_count": 113,
   "metadata": {},
   "outputs": [],
   "source": [
    "dataset_1_estrella = pd.DataFrame(list(freq_1_estrella.items()), columns = [\"Word\",\"Frequency\"])"
   ]
  },
  {
   "cell_type": "code",
   "execution_count": 114,
   "metadata": {},
   "outputs": [],
   "source": [
    "dataset_1_estrella.sort_values('Frequency',ascending=False, inplace = True)"
   ]
  },
  {
   "cell_type": "code",
   "execution_count": 115,
   "metadata": {},
   "outputs": [],
   "source": [
    "dataset_1_estrella.reset_index(drop = True, inplace=True)"
   ]
  },
  {
   "cell_type": "code",
   "execution_count": 117,
   "metadata": {},
   "outputs": [
    {
     "data": {
      "image/png": "[encoded data removed]",
      "text/plain": [
       "<Figure size 1080x576 with 1 Axes>"
      ]
     },
     "metadata": {},
     "output_type": "display_data"
    },
    {
     "name": "stdout",
     "output_type": "stream",
     "text": [
      "FRECUENCIA DE PALABRAS EN TÍTULOS CON CALIFICACIÓN 1 ESTRELLA\n"
     ]
    }
   ],
   "source": [
    "plt.figure(figsize = (15,8))\n",
    "plot = sns.barplot(x  = dataset_1_estrella.iloc[:30].Word, y = dataset_1_estrella.iloc[:30].Frequency)\n",
    "for item in plot.get_xticklabels():\n",
    "    item.set_rotation(90)\n",
    "plt.show()\n",
    "print('FRECUENCIA DE PALABRAS EN TÍTULOS CON CALIFICACIÓN 1 ESTRELLA')"
   ]
  },
  {
   "cell_type": "code",
   "execution_count": 118,
   "metadata": {},
   "outputs": [],
   "source": [
    "todos_Titulos_2_estrella = []\n",
    "for i in range(dataset_2_estrella.shape[0]):\n",
    "    Titulos_2_estrella = dataset_2_estrella.iloc[i].review_title\n",
    "    Titulos_2_estrella = nltk.tokenize.RegexpTokenizer(\"[\\w]+\").tokenize(Titulos_2_estrella)\n",
    "    Titulos_2_estrella = [word for word in Titulos_2_estrella if word not in stopwords]\n",
    "    todos_Titulos_2_estrella.append(Titulos_2_estrella)"
   ]
  },
  {
   "cell_type": "code",
   "execution_count": 119,
   "metadata": {},
   "outputs": [
    {
     "data": {
      "text/plain": [
       "['Muy',\n",
       " 'mal',\n",
       " 'Baja',\n",
       " 'calidad',\n",
       " 'producto',\n",
       " 'Decepcionados',\n",
       " 'embalaje',\n",
       " '1er',\n",
       " 'artículo',\n",
       " 'Mas']"
      ]
     },
     "execution_count": 119,
     "metadata": {},
     "output_type": "execute_result"
    }
   ],
   "source": [
    "todos_Titulos_2_estrella = list(itertools.chain(*todos_Titulos_2_estrella))\n",
    "todos_Titulos_2_estrella[0:10]"
   ]
  },
  {
   "cell_type": "code",
   "execution_count": 120,
   "metadata": {},
   "outputs": [
    {
     "data": {
      "text/plain": [
       "FreqDist({'No': 165, 'no': 82, 'calidad': 63, 'bien': 37, 'Mala': 28, 'Muy': 27, 'Se': 24, 'Calidad': 21, 'funciona': 19, 'mala': 18, ...})"
      ]
     },
     "execution_count": 120,
     "metadata": {},
     "output_type": "execute_result"
    }
   ],
   "source": [
    "freq_2_estrella = nltk.FreqDist(todos_Titulos_2_estrella)\n",
    "freq_2_estrella"
   ]
  },
  {
   "cell_type": "code",
   "execution_count": 121,
   "metadata": {},
   "outputs": [],
   "source": [
    "dataset_2_estrella = pd.DataFrame(list(freq_2_estrella.items()), columns = [\"Word\",\"Frequency\"])"
   ]
  },
  {
   "cell_type": "code",
   "execution_count": 122,
   "metadata": {},
   "outputs": [],
   "source": [
    "dataset_2_estrella.sort_values('Frequency',ascending=False, inplace = True)"
   ]
  },
  {
   "cell_type": "code",
   "execution_count": 123,
   "metadata": {},
   "outputs": [],
   "source": [
    "dataset_2_estrella.reset_index(drop = True, inplace=True)"
   ]
  },
  {
   "cell_type": "code",
   "execution_count": 126,
   "metadata": {},
   "outputs": [
    {
     "data": {
      "image/png": "[encoded data removed]",
      "text/plain": [
       "<Figure size 1080x576 with 1 Axes>"
      ]
     },
     "metadata": {},
     "output_type": "display_data"
    },
    {
     "name": "stdout",
     "output_type": "stream",
     "text": [
      "FRECUENCIA DE PALABRAS EN TÍTULOS CON CALIFICACIÓN 2 ESTRELLAS\n"
     ]
    }
   ],
   "source": [
    "plt.figure(figsize = (15,8))\n",
    "plot = sns.barplot(x  = dataset_2_estrella.iloc[:30].Word, y = dataset_2_estrella.iloc[:30].Frequency)\n",
    "for item in plot.get_xticklabels():\n",
    "    item.set_rotation(90)\n",
    "plt.show()\n",
    "print('FRECUENCIA DE PALABRAS EN TÍTULOS CON CALIFICACIÓN 2 ESTRELLAS')"
   ]
  },
  {
   "cell_type": "code",
   "execution_count": 127,
   "metadata": {},
   "outputs": [],
   "source": [
    "todos_Titulos_3_estrella = []\n",
    "for i in range(dataset_3_estrella.shape[0]):\n",
    "    Titulos_3_estrella = dataset_3_estrella.iloc[i].review_title\n",
    "    Titulos_3_estrella = nltk.tokenize.RegexpTokenizer(\"[\\w]+\").tokenize(Titulos_3_estrella)\n",
    "    Titulos_3_estrella = [word for word in Titulos_3_estrella if word not in stopwords]\n",
    "    todos_Titulos_3_estrella.append(Titulos_3_estrella)"
   ]
  },
  {
   "cell_type": "code",
   "execution_count": 128,
   "metadata": {},
   "outputs": [
    {
     "data": {
      "text/plain": [
       "['Encaja',\n",
       " 'Simple',\n",
       " 'Buen',\n",
       " 'producto',\n",
       " 'bien',\n",
       " 'BASICO',\n",
       " 'Regulera',\n",
       " 'Buen',\n",
       " 'material',\n",
       " 'rapido']"
      ]
     },
     "execution_count": 128,
     "metadata": {},
     "output_type": "execute_result"
    }
   ],
   "source": [
    "todos_Titulos_3_estrella = list(itertools.chain(*todos_Titulos_3_estrella))\n",
    "todos_Titulos_3_estrella[0:10]"
   ]
  },
  {
   "cell_type": "code",
   "execution_count": 129,
   "metadata": {},
   "outputs": [
    {
     "data": {
      "text/plain": [
       "FreqDist({'No': 96, 'bien': 63, 'no': 50, 'calidad': 48, 'precio': 46, 'mal': 32, 'Bien': 32, 'Muy': 29, 'Buena': 27, 'Correcto': 19, ...})"
      ]
     },
     "execution_count": 129,
     "metadata": {},
     "output_type": "execute_result"
    }
   ],
   "source": [
    "freq_3_estrella = nltk.FreqDist(todos_Titulos_3_estrella)\n",
    "freq_3_estrella"
   ]
  },
  {
   "cell_type": "code",
   "execution_count": 130,
   "metadata": {},
   "outputs": [],
   "source": [
    "dataset_3_estrella = pd.DataFrame(list(freq_3_estrella.items()), columns = [\"Word\",\"Frequency\"])"
   ]
  },
  {
   "cell_type": "code",
   "execution_count": 131,
   "metadata": {},
   "outputs": [],
   "source": [
    "dataset_3_estrella.sort_values('Frequency',ascending=False, inplace = True)"
   ]
  },
  {
   "cell_type": "code",
   "execution_count": 132,
   "metadata": {},
   "outputs": [],
   "source": [
    "dataset_3_estrella.reset_index(drop = True, inplace=True)"
   ]
  },
  {
   "cell_type": "code",
   "execution_count": 133,
   "metadata": {},
   "outputs": [
    {
     "data": {
      "image/png": "[encoded data removed]",
      "text/plain": [
       "<Figure size 1080x576 with 1 Axes>"
      ]
     },
     "metadata": {},
     "output_type": "display_data"
    },
    {
     "name": "stdout",
     "output_type": "stream",
     "text": [
      "FRECUENCIA DE PALABRAS EN TÍTULOS CON CALIFICACIÓN 3 ESTRELLAS\n"
     ]
    }
   ],
   "source": [
    "plt.figure(figsize = (15,8))\n",
    "plot = sns.barplot(x  = dataset_3_estrella.iloc[:30].Word, y = dataset_3_estrella.iloc[:30].Frequency)\n",
    "for item in plot.get_xticklabels():\n",
    "    item.set_rotation(90)\n",
    "plt.show()\n",
    "print('FRECUENCIA DE PALABRAS EN TÍTULOS CON CALIFICACIÓN 3 ESTRELLAS')"
   ]
  },
  {
   "cell_type": "code",
   "execution_count": 134,
   "metadata": {},
   "outputs": [],
   "source": [
    "todos_Titulos_4_estrella = []\n",
    "for i in range(dataset_4_estrella.shape[0]):\n",
    "    Titulos_4_estrella = dataset_4_estrella.iloc[i].review_title\n",
    "    Titulos_4_estrella = nltk.tokenize.RegexpTokenizer(\"[\\w]+\").tokenize(Titulos_4_estrella)\n",
    "    Titulos_4_estrella = [word for word in Titulos_4_estrella if word not in stopwords]\n",
    "    todos_Titulos_4_estrella.append(Titulos_4_estrella)"
   ]
  },
  {
   "cell_type": "code",
   "execution_count": 135,
   "metadata": {},
   "outputs": [
    {
     "data": {
      "text/plain": [
       "['Gran',\n",
       " 'juego',\n",
       " 'llaves',\n",
       " 'Funcional',\n",
       " 'compacto',\n",
       " 'cómodo',\n",
       " 'ESTA',\n",
       " 'BIEN',\n",
       " 'Nice',\n",
       " 'Calidad']"
      ]
     },
     "execution_count": 135,
     "metadata": {},
     "output_type": "execute_result"
    }
   ],
   "source": [
    "todos_Titulos_4_estrella = list(itertools.chain(*todos_Titulos_4_estrella))\n",
    "todos_Titulos_4_estrella[0:10]"
   ]
  },
  {
   "cell_type": "code",
   "execution_count": 136,
   "metadata": {},
   "outputs": [
    {
     "data": {
      "text/plain": [
       "FreqDist({'precio': 84, 'Buena': 74, 'Muy': 74, 'calidad': 69, 'bien': 65, 'Buen': 51, 'producto': 36, 'buena': 33, 'Bien': 32, 'Calidad': 27, ...})"
      ]
     },
     "execution_count": 136,
     "metadata": {},
     "output_type": "execute_result"
    }
   ],
   "source": [
    "freq_4_estrella = nltk.FreqDist(todos_Titulos_4_estrella)\n",
    "freq_4_estrella"
   ]
  },
  {
   "cell_type": "code",
   "execution_count": 137,
   "metadata": {},
   "outputs": [],
   "source": [
    "dataset_4_estrella = pd.DataFrame(list(freq_4_estrella.items()), columns = [\"Word\",\"Frequency\"])"
   ]
  },
  {
   "cell_type": "code",
   "execution_count": 138,
   "metadata": {},
   "outputs": [],
   "source": [
    "dataset_4_estrella.sort_values('Frequency',ascending=False, inplace = True)"
   ]
  },
  {
   "cell_type": "code",
   "execution_count": 139,
   "metadata": {},
   "outputs": [],
   "source": [
    "dataset_4_estrella.reset_index(drop = True, inplace=True)"
   ]
  },
  {
   "cell_type": "code",
   "execution_count": 141,
   "metadata": {},
   "outputs": [
    {
     "data": {
      "image/png": "[encoded data removed]",
      "text/plain": [
       "<Figure size 1080x576 with 1 Axes>"
      ]
     },
     "metadata": {},
     "output_type": "display_data"
    },
    {
     "name": "stdout",
     "output_type": "stream",
     "text": [
      "FRECUENCIA DE PALABRAS EN TÍTULOS CON CALIFICACIÓN 4 ESTRELLAS\n"
     ]
    }
   ],
   "source": [
    "plt.figure(figsize = (15,8))\n",
    "plot = sns.barplot(x  = dataset_4_estrella.iloc[:30].Word, y = dataset_4_estrella.iloc[:30].Frequency)\n",
    "for item in plot.get_xticklabels():\n",
    "    item.set_rotation(90)\n",
    "plt.show()\n",
    "print('FRECUENCIA DE PALABRAS EN TÍTULOS CON CALIFICACIÓN 4 ESTRELLAS')"
   ]
  },
  {
   "cell_type": "code",
   "execution_count": 142,
   "metadata": {},
   "outputs": [],
   "source": [
    "todos_Titulos_5_estrella = []\n",
    "for i in range(dataset_5_estrella.shape[0]):\n",
    "    Titulos_5_estrella = dataset_5_estrella.iloc[i].review_title\n",
    "    Titulos_5_estrella = nltk.tokenize.RegexpTokenizer(\"[\\w]+\").tokenize(Titulos_5_estrella)\n",
    "    Titulos_5_estrella = [word for word in Titulos_5_estrella if word not in stopwords]\n",
    "    todos_Titulos_5_estrella.append(Titulos_5_estrella)"
   ]
  },
  {
   "cell_type": "code",
   "execution_count": 143,
   "metadata": {},
   "outputs": [
    {
     "data": {
      "text/plain": [
       "['Muy',\n",
       " 'Útil',\n",
       " 'ligero',\n",
       " 'hace',\n",
       " 'papel',\n",
       " 'Funciona',\n",
       " 'Cápsulas',\n",
       " 'compatibles',\n",
       " 'maquina',\n",
       " 'nespresso']"
      ]
     },
     "execution_count": 143,
     "metadata": {},
     "output_type": "execute_result"
    }
   ],
   "source": [
    "todos_Titulos_5_estrella = list(itertools.chain(*todos_Titulos_5_estrella))\n",
    "todos_Titulos_5_estrella[0:10]"
   ]
  },
  {
   "cell_type": "code",
   "execution_count": 144,
   "metadata": {},
   "outputs": [
    {
     "data": {
      "text/plain": [
       "FreqDist({'Muy': 100, 'calidad': 73, 'Perfecto': 48, 'Buen': 46, 'precio': 44, 'bien': 42, 'producto': 42, 'Buena': 41, 'buen': 38, 'buena': 32, ...})"
      ]
     },
     "execution_count": 144,
     "metadata": {},
     "output_type": "execute_result"
    }
   ],
   "source": [
    "freq_5_estrella = nltk.FreqDist(todos_Titulos_5_estrella)\n",
    "freq_5_estrella"
   ]
  },
  {
   "cell_type": "code",
   "execution_count": 145,
   "metadata": {},
   "outputs": [],
   "source": [
    "dataset_5_estrella = pd.DataFrame(list(freq_5_estrella.items()), columns = [\"Word\",\"Frequency\"])"
   ]
  },
  {
   "cell_type": "code",
   "execution_count": 146,
   "metadata": {},
   "outputs": [],
   "source": [
    "dataset_5_estrella.sort_values('Frequency',ascending=False, inplace = True)"
   ]
  },
  {
   "cell_type": "code",
   "execution_count": 147,
   "metadata": {},
   "outputs": [],
   "source": [
    "dataset_5_estrella.reset_index(drop = True, inplace=True)"
   ]
  },
  {
   "cell_type": "code",
   "execution_count": 148,
   "metadata": {},
   "outputs": [
    {
     "data": {
      "image/png": "[encoded data removed]",
      "text/plain": [
       "<Figure size 1080x576 with 1 Axes>"
      ]
     },
     "metadata": {},
     "output_type": "display_data"
    },
    {
     "name": "stdout",
     "output_type": "stream",
     "text": [
      "FRECUENCIA DE PALABRAS EN TÍTULOS CON CALIFICACIÓN 5 ESTRELLAS\n"
     ]
    }
   ],
   "source": [
    "plt.figure(figsize = (15,8))\n",
    "plot = sns.barplot(x  = dataset_5_estrella.iloc[:30].Word, y = dataset_5_estrella.iloc[:30].Frequency)\n",
    "for item in plot.get_xticklabels():\n",
    "    item.set_rotation(90)\n",
    "plt.show()\n",
    "print('FRECUENCIA DE PALABRAS EN TÍTULOS CON CALIFICACIÓN 5 ESTRELLAS')"
   ]
  },
  {
   "cell_type": "code",
   "execution_count": 149,
   "metadata": {
    "scrolled": true
   },
   "outputs": [
    {
     "data": {
      "text/html": [
       "<div>\n",
       "<style scoped>\n",
       "    .dataframe tbody tr th:only-of-type {\n",
       "        vertical-align: middle;\n",
       "    }\n",
       "\n",
       "    .dataframe tbody tr th {\n",
       "        vertical-align: top;\n",
       "    }\n",
       "\n",
       "    .dataframe thead th {\n",
       "        text-align: right;\n",
       "    }\n",
       "</style>\n",
       "<table border=\"1\" class=\"dataframe\">\n",
       "  <thead>\n",
       "    <tr style=\"text-align: right;\">\n",
       "      <th></th>\n",
       "      <th>review_id</th>\n",
       "      <th>product_id</th>\n",
       "      <th>reviewer_id</th>\n",
       "      <th>stars</th>\n",
       "      <th>review_body</th>\n",
       "      <th>review_title</th>\n",
       "      <th>language</th>\n",
       "      <th>product_category</th>\n",
       "    </tr>\n",
       "  </thead>\n",
       "  <tbody>\n",
       "    <tr>\n",
       "      <th>0</th>\n",
       "      <td>es_0417480</td>\n",
       "      <td>product_es_0873923</td>\n",
       "      <td>reviewer_es_0672978</td>\n",
       "      <td>1</td>\n",
       "      <td>Malisimo, muy grande demasiado aparatoso y mal...</td>\n",
       "      <td>Mala compra</td>\n",
       "      <td>es</td>\n",
       "      <td>wireless</td>\n",
       "    </tr>\n",
       "    <tr>\n",
       "      <th>1</th>\n",
       "      <td>es_0180432</td>\n",
       "      <td>product_es_0713146</td>\n",
       "      <td>reviewer_es_0100858</td>\n",
       "      <td>1</td>\n",
       "      <td>No he recibido el pedido no la devolución</td>\n",
       "      <td>No lo he recibido</td>\n",
       "      <td>es</td>\n",
       "      <td>apparel</td>\n",
       "    </tr>\n",
       "    <tr>\n",
       "      <th>2</th>\n",
       "      <td>es_0144850</td>\n",
       "      <td>product_es_0356874</td>\n",
       "      <td>reviewer_es_0486447</td>\n",
       "      <td>1</td>\n",
       "      <td>Tengo que buscar otro sistema, este no funcion...</td>\n",
       "      <td>Que no aprieta bien en el manillar</td>\n",
       "      <td>es</td>\n",
       "      <td>sports</td>\n",
       "    </tr>\n",
       "  </tbody>\n",
       "</table>\n",
       "</div>"
      ],
      "text/plain": [
       "    review_id          product_id          reviewer_id  stars  \\\n",
       "0  es_0417480  product_es_0873923  reviewer_es_0672978      1   \n",
       "1  es_0180432  product_es_0713146  reviewer_es_0100858      1   \n",
       "2  es_0144850  product_es_0356874  reviewer_es_0486447      1   \n",
       "\n",
       "                                         review_body  \\\n",
       "0  Malisimo, muy grande demasiado aparatoso y mal...   \n",
       "1          No he recibido el pedido no la devolución   \n",
       "2  Tengo que buscar otro sistema, este no funcion...   \n",
       "\n",
       "                         review_title language product_category  \n",
       "0                         Mala compra       es         wireless  \n",
       "1                   No lo he recibido       es          apparel  \n",
       "2  Que no aprieta bien en el manillar       es           sports  "
      ]
     },
     "execution_count": 149,
     "metadata": {},
     "output_type": "execute_result"
    }
   ],
   "source": [
    "dataset3 = pd.read_json('dataset_es_dev.json', lines= True)\n",
    "dataset3.head(3)\n",
    "\n"
   ]
  },
  {
   "cell_type": "markdown",
   "metadata": {},
   "source": [
    "<font color=00777>______________**Selección de las columnas de interés**</font> \n",
    "+ Se toman del dataset las columnas 'review_title' y 'stars'"
   ]
  },
  {
   "cell_type": "code",
   "execution_count": 154,
   "metadata": {
    "scrolled": true
   },
   "outputs": [
    {
     "data": {
      "text/html": [
       "<div>\n",
       "<style scoped>\n",
       "    .dataframe tbody tr th:only-of-type {\n",
       "        vertical-align: middle;\n",
       "    }\n",
       "\n",
       "    .dataframe tbody tr th {\n",
       "        vertical-align: top;\n",
       "    }\n",
       "\n",
       "    .dataframe thead th {\n",
       "        text-align: right;\n",
       "    }\n",
       "</style>\n",
       "<table border=\"1\" class=\"dataframe\">\n",
       "  <thead>\n",
       "    <tr style=\"text-align: right;\">\n",
       "      <th></th>\n",
       "      <th>review_title</th>\n",
       "      <th>stars</th>\n",
       "    </tr>\n",
       "  </thead>\n",
       "  <tbody>\n",
       "    <tr>\n",
       "      <th>0</th>\n",
       "      <td>Mala compra</td>\n",
       "      <td>1</td>\n",
       "    </tr>\n",
       "    <tr>\n",
       "      <th>1</th>\n",
       "      <td>No lo he recibido</td>\n",
       "      <td>1</td>\n",
       "    </tr>\n",
       "    <tr>\n",
       "      <th>2</th>\n",
       "      <td>Que no aprieta bien en el manillar</td>\n",
       "      <td>1</td>\n",
       "    </tr>\n",
       "    <tr>\n",
       "      <th>3</th>\n",
       "      <td>Brocas de mantequilla</td>\n",
       "      <td>1</td>\n",
       "    </tr>\n",
       "    <tr>\n",
       "      <th>4</th>\n",
       "      <td>No me gusta</td>\n",
       "      <td>1</td>\n",
       "    </tr>\n",
       "  </tbody>\n",
       "</table>\n",
       "</div>"
      ],
      "text/plain": [
       "                         review_title  stars\n",
       "0                         Mala compra      1\n",
       "1                   No lo he recibido      1\n",
       "2  Que no aprieta bien en el manillar      1\n",
       "3               Brocas de mantequilla      1\n",
       "4                         No me gusta      1"
      ]
     },
     "execution_count": 154,
     "metadata": {},
     "output_type": "execute_result"
    }
   ],
   "source": [
    "dataset3=pd.concat([dataset3.review_title, dataset3.stars],axis=1)\n",
    "dataset3.dropna(axis=0,inplace=True)  # Si hay alguna nan, tiramos esa instancia\n",
    "dataset3.head()"
   ]
  },
  {
   "cell_type": "markdown",
   "metadata": {},
   "source": [
    "<font color=00777>\n",
    "\n",
    "### **___________________ Lematización**</font> \n",
    "+ Se cargan las librerías y las funciones necesarias para efectuar la lematización de los títulos."
   ]
  },
  {
   "cell_type": "code",
   "execution_count": 2,
   "metadata": {},
   "outputs": [
    {
     "name": "stderr",
     "output_type": "stream",
     "text": [
      "[nltk_data] Downloading package wordnet to\n",
      "[nltk_data]     C:\\Users\\macer\\AppData\\Roaming\\nltk_data...\n",
      "[nltk_data]   Package wordnet is already up-to-date!\n"
     ]
    },
    {
     "data": {
      "text/plain": [
       "True"
      ]
     },
     "execution_count": 2,
     "metadata": {},
     "output_type": "execute_result"
    }
   ],
   "source": [
    "import nltk\n",
    "nltk.download('wordnet')"
   ]
  },
  {
   "cell_type": "code",
   "execution_count": 157,
   "metadata": {},
   "outputs": [],
   "source": [
    "from nltk.corpus import wordnet\n",
    "\n",
    "def get_wordnet_pos(word):\n",
    "    \"\"\"Map POS tag to first character lemmatize() accepts\"\"\"\n",
    "    tag = nltk.pos_tag([word])[0][1][0].upper()\n",
    "    tag_dict = {\"J\": wordnet.ADJ,\n",
    "                \"N\": wordnet.NOUN,\n",
    "                \"V\": wordnet.VERB,\n",
    "                \"R\": wordnet.ADV}\n",
    "\n",
    "    return tag_dict.get(tag, wordnet.NOUN)"
   ]
  },
  {
   "cell_type": "code",
   "execution_count": 158,
   "metadata": {},
   "outputs": [],
   "source": [
    "# Importamos el lemmatizar de NLTK, y creamos el objeto\n",
    "from nltk.stem import WordNetLemmatizer\n",
    "wordnet_lemmatizer = WordNetLemmatizer()\n",
    "\n",
    "# Importamos esta libreria que nos permite reemplazar caracteres\n",
    "import re\n",
    "dataset3 = pd.read_json('dataset_es_dev.json', lines= True)\n",
    "dataset3.head(30)\n",
    "\n",
    "dataset3 = pd.concat([dataset3.review_title,dataset3.stars],axis=1)\n",
    "dataset3.dropna(axis=0,inplace=True)\n",
    "\n",
    "# Traemos nuevamente las stopwords\n",
    "stopwords = nltk.corpus.stopwords.words('spanish')\n",
    "stopwords.remove('no')"
   ]
  },
  {
   "cell_type": "code",
   "execution_count": 159,
   "metadata": {},
   "outputs": [],
   "source": [
    "Titulos_list=[]\n",
    "for Titulos in dataset3.review_title:\n",
    "    # Vamos a reemplazar los caracteres que no sean letras por espacios\n",
    "    Titulos=re.sub(\"[^a-zA-Z]\",\" \",str(Titulos))\n",
    "    # Pasamos todo a minúsculas\n",
    "    Titulos=Titulos.lower()\n",
    "    # Tokenizamos para separar las palabras\n",
    "    Titulos=nltk.word_tokenize(Titulos)\n",
    "    \n",
    "    # Aplicamos el Lemmatizer (Esto puede tardar un ratito)\n",
    "    frase_lemma = [wordnet_lemmatizer.lemmatize(w, get_wordnet_pos(w)) for w in Titulos]\n",
    "    \n",
    "    \n",
    "    #Nos quedamos con las palabras que tengan a partir de 2 letras.\n",
    "    Titulos = [palabra for palabra in Titulos if len(palabra)>1]\n",
    "    # Sacamos las Stopwords\n",
    "    Titulos = [palabra for palabra in Titulos if not palabra in stopwords]\n",
    "    \n",
    "    # Por ultimo volvemos a unir el titular\n",
    "    Titulos =\" \".join(Titulos)\n",
    "    Titulos_list.append(Titulos)"
   ]
  },
  {
   "cell_type": "code",
   "execution_count": 160,
   "metadata": {},
   "outputs": [
    {
     "data": {
      "text/html": [
       "<div>\n",
       "<style scoped>\n",
       "    .dataframe tbody tr th:only-of-type {\n",
       "        vertical-align: middle;\n",
       "    }\n",
       "\n",
       "    .dataframe tbody tr th {\n",
       "        vertical-align: top;\n",
       "    }\n",
       "\n",
       "    .dataframe thead th {\n",
       "        text-align: right;\n",
       "    }\n",
       "</style>\n",
       "<table border=\"1\" class=\"dataframe\">\n",
       "  <thead>\n",
       "    <tr style=\"text-align: right;\">\n",
       "      <th></th>\n",
       "      <th>review_title</th>\n",
       "      <th>stars</th>\n",
       "      <th>titular_lemm</th>\n",
       "    </tr>\n",
       "  </thead>\n",
       "  <tbody>\n",
       "    <tr>\n",
       "      <th>4995</th>\n",
       "      <td>guadalupe</td>\n",
       "      <td>5</td>\n",
       "      <td>guadalupe</td>\n",
       "    </tr>\n",
       "    <tr>\n",
       "      <th>4996</th>\n",
       "      <td>calidad precio</td>\n",
       "      <td>5</td>\n",
       "      <td>calidad precio</td>\n",
       "    </tr>\n",
       "    <tr>\n",
       "      <th>4997</th>\n",
       "      <td>Excelente</td>\n",
       "      <td>5</td>\n",
       "      <td>excelente</td>\n",
       "    </tr>\n",
       "    <tr>\n",
       "      <th>4998</th>\n",
       "      <td>Genial</td>\n",
       "      <td>5</td>\n",
       "      <td>genial</td>\n",
       "    </tr>\n",
       "    <tr>\n",
       "      <th>4999</th>\n",
       "      <td>Buena calidad</td>\n",
       "      <td>5</td>\n",
       "      <td>buena calidad</td>\n",
       "    </tr>\n",
       "  </tbody>\n",
       "</table>\n",
       "</div>"
      ],
      "text/plain": [
       "        review_title  stars    titular_lemm\n",
       "4995       guadalupe      5       guadalupe\n",
       "4996  calidad precio      5  calidad precio\n",
       "4997       Excelente      5       excelente\n",
       "4998          Genial      5          genial\n",
       "4999   Buena calidad      5   buena calidad"
      ]
     },
     "execution_count": 160,
     "metadata": {},
     "output_type": "execute_result"
    }
   ],
   "source": [
    "dataset3[\"titular_lemm\"] = Titulos_list\n",
    "dataset3.tail()"
   ]
  },
  {
   "cell_type": "markdown",
   "metadata": {},
   "source": [
    "<font color=00777>______________**Dataset lematizado**</font> \n",
    "+ Creamos un dataset con los titulos lematizados y la columna de estrellas."
   ]
  },
  {
   "cell_type": "code",
   "execution_count": 161,
   "metadata": {},
   "outputs": [
    {
     "data": {
      "text/html": [
       "<div>\n",
       "<style scoped>\n",
       "    .dataframe tbody tr th:only-of-type {\n",
       "        vertical-align: middle;\n",
       "    }\n",
       "\n",
       "    .dataframe tbody tr th {\n",
       "        vertical-align: top;\n",
       "    }\n",
       "\n",
       "    .dataframe thead th {\n",
       "        text-align: right;\n",
       "    }\n",
       "</style>\n",
       "<table border=\"1\" class=\"dataframe\">\n",
       "  <thead>\n",
       "    <tr style=\"text-align: right;\">\n",
       "      <th></th>\n",
       "      <th>titular_lemm</th>\n",
       "      <th>stars</th>\n",
       "    </tr>\n",
       "  </thead>\n",
       "  <tbody>\n",
       "    <tr>\n",
       "      <th>4995</th>\n",
       "      <td>guadalupe</td>\n",
       "      <td>5</td>\n",
       "    </tr>\n",
       "    <tr>\n",
       "      <th>4996</th>\n",
       "      <td>calidad precio</td>\n",
       "      <td>5</td>\n",
       "    </tr>\n",
       "    <tr>\n",
       "      <th>4997</th>\n",
       "      <td>excelente</td>\n",
       "      <td>5</td>\n",
       "    </tr>\n",
       "    <tr>\n",
       "      <th>4998</th>\n",
       "      <td>genial</td>\n",
       "      <td>5</td>\n",
       "    </tr>\n",
       "    <tr>\n",
       "      <th>4999</th>\n",
       "      <td>buena calidad</td>\n",
       "      <td>5</td>\n",
       "    </tr>\n",
       "  </tbody>\n",
       "</table>\n",
       "</div>"
      ],
      "text/plain": [
       "        titular_lemm  stars\n",
       "4995       guadalupe      5\n",
       "4996  calidad precio      5\n",
       "4997       excelente      5\n",
       "4998          genial      5\n",
       "4999   buena calidad      5"
      ]
     },
     "execution_count": 161,
     "metadata": {},
     "output_type": "execute_result"
    }
   ],
   "source": [
    "dataset3_lemm = pd.concat([dataset3.titular_lemm,dataset3.stars],axis=1)\n",
    "dataset3_lemm.dropna(axis=0,inplace=True)  # Por si quedaron titulos vacios\n",
    "dataset3_lemm.tail()"
   ]
  },
  {
   "cell_type": "markdown",
   "metadata": {},
   "source": [
    "<font color=00777>\n",
    "\n",
    "### **___________________ Vectorización**</font> \n",
    "+ Tomamos las palabras y el vector de clasificación.\n",
    "+ Cargamos la librería con las funcionalidades para vectorizar"
   ]
  },
  {
   "cell_type": "code",
   "execution_count": 162,
   "metadata": {},
   "outputs": [],
   "source": [
    "# Tomamos la lista de palabras y el vector que nos dice su clasificación\n",
    "\n",
    "list_titulos = list(dataset3_lemm['titular_lemm'].values)\n",
    "\n",
    "Stars = dataset3_lemm['stars'].values"
   ]
  },
  {
   "cell_type": "code",
   "execution_count": 163,
   "metadata": {},
   "outputs": [],
   "source": [
    "from sklearn.feature_extraction.text import CountVectorizer\n",
    "\n",
    "# Usaremos solo las 1000 palabras con mas frecuencia en todo el corpus para generar los vectores\n",
    "max_features=1000\n",
    "\n",
    "# Es decir que cada instancia tendrá 1000 features\n",
    "cou_vec=CountVectorizer(max_features=max_features, ngram_range=(1,2))#stop_words='spanish') "
   ]
  },
  {
   "cell_type": "markdown",
   "metadata": {},
   "source": [
    "+ Generamos los vectores para cada título a aprtir del corpus total."
   ]
  },
  {
   "cell_type": "code",
   "execution_count": 164,
   "metadata": {},
   "outputs": [
    {
     "name": "stdout",
     "output_type": "stream",
     "text": [
      "50 palabras mas usadas:  ['aburrido', 'acabado', 'acabados', 'aceptable', 'aconsejable', 'acorde', 'ada', 'adapta', 'adaptador', 'adecuado', 'ado', 'agradable', 'agua', 'aguanta', 'ahora', 'ajusta', 'ajusta bien', 'ajuste', 'alivia', 'alta', 'altavoz', 'altura', 'amarillea', 'amazon', 'ameno', 'an', 'ana', 'anillas', 'antena', 'antonio', 'anunciado', 'aparatoso', 'apto', 'apuro', 'arrugado', 'art', 'art culo', 'articulo', 'as', 'aspirador', 'aun', 'aunque', 'auriculares', 'auriculares buen', 'ayuda', 'azul', 'ba', 'baja', 'baja calidad', 'bajo']\n"
     ]
    }
   ],
   "source": [
    "matriz_titulos = cou_vec.fit_transform(list_titulos)\n",
    "\n",
    "# Tomamos las palabras\n",
    "all_words = cou_vec.get_feature_names()\n",
    "\n",
    "# Vizualizamos las 50 palabras mas usadas\n",
    "print(\"50 palabras mas usadas: \",all_words[0:50])"
   ]
  },
  {
   "cell_type": "markdown",
   "metadata": {},
   "source": [
    "<font color=00777>\n",
    "\n",
    "# B - Machine Learning - Modelización"
   ]
  },
  {
   "cell_type": "markdown",
   "metadata": {},
   "source": [
    "<font color=00777>______________**Separación el dataset en train y test**</font> "
   ]
  },
  {
   "cell_type": "code",
   "execution_count": 168,
   "metadata": {},
   "outputs": [],
   "source": [
    "x = matriz_titulos.toarray()\n",
    "y = Stars\n",
    "\n",
    "from sklearn.model_selection import train_test_split\n",
    "xtrain, xtest, ytrain, ytest = train_test_split(x,y,test_size=0.2,random_state=42,stratify=y)"
   ]
  },
  {
   "cell_type": "markdown",
   "metadata": {},
   "source": [
    "<font color=00777>______________**Creación una función para graficar los resultados**</font> "
   ]
  },
  {
   "cell_type": "code",
   "execution_count": 169,
   "metadata": {},
   "outputs": [],
   "source": [
    "from sklearn.metrics import confusion_matrix\n",
    "import seaborn as sns\n",
    "\n",
    "def confusion(ytest,y_pred):\n",
    "    names=[\"1\",\"2\",\"3\",\"4\",\"5\"]\n",
    "    cm=confusion_matrix(ytest,y_pred)\n",
    "    f,ax=plt.subplots(figsize=(5,5))\n",
    "    sns.heatmap(cm,annot=True,linewidth=.5,linecolor=\"r\",fmt=\".0f\",ax=ax)\n",
    "    plt.xlabel(\"y_pred\")\n",
    "    plt.ylabel(\"y_true\")\n",
    "    ax.set_xticklabels(names)\n",
    "    ax.set_yticklabels(names)\n",
    "    plt.show()\n",
    "\n",
    "    return"
   ]
  },
  {
   "cell_type": "markdown",
   "metadata": {},
   "source": [
    "<font color=00777>______________**Elección de métricas y modelos**</font> \n",
    "+ Se eligen como métricas Exactitud (Accurancy) y Matriz de Confusión, la primera nos dará una idea del funcionamiento del modelo y la segunda nos dirá dónde está fallando.\n",
    "+ Se tomará el problema como un tema de clasificación, por lo que se elige como modelo Random Forest Classifier y se lo comparará con Naive Bayes como benchmark."
   ]
  },
  {
   "cell_type": "markdown",
   "metadata": {},
   "source": [
    "<font color=00777>______________**Naive Bayes**</font> "
   ]
  },
  {
   "cell_type": "code",
   "execution_count": 16,
   "metadata": {},
   "outputs": [
    {
     "name": "stdout",
     "output_type": "stream",
     "text": [
      "Accurancy Naive Bayes, Gaussian(test):  0.335\n",
      "Accurancy Naive Bayes, Gaussian(train):  0.462\n"
     ]
    }
   ],
   "source": [
    "from sklearn.naive_bayes import GaussianNB\n",
    "nb = GaussianNB()\n",
    "nb.fit(xtrain,ytrain)\n",
    "print(\"Accurancy Naive Bayes, Gaussian(test): \",nb.score(xtest,ytest))\n",
    "print(\"Accurancy Naive Bayes, Gaussian(train): \",nb.score(xtrain,ytrain))"
   ]
  },
  {
   "cell_type": "markdown",
   "metadata": {},
   "source": [
    "<font color=00777>______________**Graficación de la Matriz de Confusión de Naive Bayes**</font> "
   ]
  },
  {
   "cell_type": "code",
   "execution_count": 17,
   "metadata": {},
   "outputs": [
    {
     "data": {
      "image/png": "[encoded data removed]",
      "text/plain": [
       "<Figure size 360x360 with 2 Axes>"
      ]
     },
     "metadata": {},
     "output_type": "display_data"
    }
   ],
   "source": [
    "y_pred=nb.predict(xtest)\n",
    "confusion(ytest,y_pred)"
   ]
  },
  {
   "cell_type": "markdown",
   "metadata": {},
   "source": [
    "<font color=00777>______________**Random Forest Classifier**</font> "
   ]
  },
  {
   "cell_type": "code",
   "execution_count": 18,
   "metadata": {},
   "outputs": [
    {
     "name": "stdout",
     "output_type": "stream",
     "text": [
      "Accurancy Random Forest (test):  0.385\n",
      "Accurancy Random Forest (train):  0.7155\n"
     ]
    }
   ],
   "source": [
    "from sklearn.ensemble import RandomForestClassifier\n",
    "from sklearn.metrics import confusion_matrix\n",
    "\n",
    "rf = RandomForestClassifier()\n",
    "rf.fit(xtrain,ytrain)\n",
    "print(\"Accurancy Random Forest (test): \",rf.score(xtest,ytest))\n",
    "print(\"Accurancy Random Forest (train): \",rf.score(xtrain,ytrain))"
   ]
  },
  {
   "cell_type": "markdown",
   "metadata": {},
   "source": [
    "<font color=00777>______________**Graficación la Matriz de Confusión de Random Forest Classifier**</font> "
   ]
  },
  {
   "cell_type": "code",
   "execution_count": 19,
   "metadata": {},
   "outputs": [
    {
     "data": {
      "image/png": "[encoded data removed]",
      "text/plain": [
       "<Figure size 360x360 with 2 Axes>"
      ]
     },
     "metadata": {},
     "output_type": "display_data"
    }
   ],
   "source": [
    "y_pred=rf.predict(xtest)\n",
    "confusion(ytest,y_pred)"
   ]
  },
  {
   "cell_type": "markdown",
   "metadata": {},
   "source": [
    "<font color=00777>______________**Respuesta a la pregunta sobre el dataset**</font> \n",
    "+ Las palabras más frecuentes en cada categoría se pueden visualizar en los gráficos que anteceden en la parte del análisis,\n",
    "+ La influencia que tienen en el modelo, es más visible en la Matriz de Confusión de Random Forest Classifier, una vez lematizados y detectar con qué otras palabras vienen acompañadas en los títulos,el modelo parece comprender muy bien el significado de las palabras MUY y NO, para ubicar en los extremos a esos títulos, y parece equivocarse un poco más en la categoría de 3 estrellas, que aunque la palabra No tiene mucha frecuencia, el lematizador pareció entender que dependiendo de su asociación con otras palabras, no determina un sentimiento negativo. En cambio se le hace más dificil comprender el significado de esas asociaciones con las palabras MUY, CALIDAD, PRECIO,para la calificación de 4 estrellas y BUEN, NO, CALIDAD, y MALA, para la calificación de 2 estrellas.  "
   ]
  },
  {
   "cell_type": "markdown",
   "metadata": {},
   "source": [
    "<font color=00777>______________**Optimización de parámetros de Random Forest Classifier**</font> \n",
    "+ Se elige el modelo que tuvo mejores resultados para optimizar"
   ]
  },
  {
   "cell_type": "code",
   "execution_count": 21,
   "metadata": {},
   "outputs": [],
   "source": [
    "from sklearn.model_selection import cross_val_score\n",
    "from sklearn.model_selection import RandomizedSearchCV\n",
    "from sklearn.model_selection import GridSearchCV\n",
    "\n",
    "import sys\n",
    "import warnings\n",
    "\n",
    "warnings.filterwarnings(\"ignore\")"
   ]
  },
  {
   "cell_type": "code",
   "execution_count": 22,
   "metadata": {},
   "outputs": [],
   "source": [
    "from sklearn.model_selection import RandomizedSearchCV\n",
    "# Number of trees in random forest\n",
    "n_estimators = [int(x) for x in np.linspace(start = 100, stop = 800, num = 10)]\n",
    "# Number of features to consider at every split\n",
    "max_features = ['auto', 'sqrt']\n",
    "# Maximum number of levels in tree\n",
    "max_depth = [int(x) for x in np.linspace(2, 5, num = 11)]\n",
    "max_depth.append(None)\n",
    "# Minimum number of samples required to split a node\n",
    "min_samples_split = [2, 5, 10]\n",
    "# Minimum number of samples required at each leaf node\n",
    "min_samples_leaf = [1, 2, 4]\n",
    "# Method of selecting samples for training each tree\n",
    "bootstrap = [True, False]\n",
    "# Create the random grid\n",
    "random_grid = {'n_estimators': n_estimators,\n",
    "               'max_features': max_features,\n",
    "               'max_depth': max_depth,\n",
    "               'min_samples_split': min_samples_split,\n",
    "               'min_samples_leaf': min_samples_leaf,\n",
    "               'bootstrap': bootstrap}"
   ]
  },
  {
   "cell_type": "code",
   "execution_count": 29,
   "metadata": {},
   "outputs": [],
   "source": [
    "x = matriz_titulos.toarray()\n",
    "y = Stars\n",
    "\n",
    "from sklearn.model_selection import train_test_split\n",
    "xtrain, xtest, ytrain, ytest = train_test_split(x,y,test_size=0.2,random_state=42,stratify=y)"
   ]
  },
  {
   "cell_type": "code",
   "execution_count": 31,
   "metadata": {},
   "outputs": [
    {
     "name": "stdout",
     "output_type": "stream",
     "text": [
      "Fitting 3 folds for each of 100 candidates, totalling 300 fits\n"
     ]
    },
    {
     "name": "stderr",
     "output_type": "stream",
     "text": [
      "[Parallel(n_jobs=-1)]: Using backend LokyBackend with 8 concurrent workers.\n",
      "[Parallel(n_jobs=-1)]: Done  25 tasks      | elapsed:   13.8s\n",
      "[Parallel(n_jobs=-1)]: Done 146 tasks      | elapsed:  2.1min\n",
      "[Parallel(n_jobs=-1)]: Done 300 out of 300 | elapsed:  6.5min finished\n"
     ]
    },
    {
     "data": {
      "text/plain": [
       "{'n_estimators': 644,\n",
       " 'min_samples_split': 10,\n",
       " 'min_samples_leaf': 1,\n",
       " 'max_features': 'sqrt',\n",
       " 'max_depth': None,\n",
       " 'bootstrap': True}"
      ]
     },
     "execution_count": 31,
     "metadata": {},
     "output_type": "execute_result"
    }
   ],
   "source": [
    "# Use the random grid to search for best hyperparameters\n",
    "# First create the base model to tune\n",
    "rf = RandomForestClassifier()\n",
    "# Random search of parameters, using 3 fold cross validation, \n",
    "# search across 100 different combinations, and use all available cores\n",
    "rf_random = RandomizedSearchCV(estimator = rf, param_distributions = random_grid, n_iter = 100, cv = 3, verbose=2, random_state=42, n_jobs = -1)\n",
    "# Fit the random search model\n",
    "rf_random.fit(xtrain, ytrain)\n",
    "rf_random.best_params_"
   ]
  },
  {
   "cell_type": "markdown",
   "metadata": {},
   "source": [
    "<font color=00777>______________**Mejores parámetros para Random Forest Classifier en dataset con clasificación de 1 a 5 estrellas**</font> \n",
    "\n",
    "+ n_estimators: 644\n",
    "+ min_samples_split: 10\n",
    "+ min_samples_leaf: 1\n",
    "+ max_features: sqrt\n",
    "+ max_depth: None\n",
    "+ bootstrap: True"
   ]
  },
  {
   "cell_type": "markdown",
   "metadata": {},
   "source": [
    "<font color=00777>______________**Random Forest Classifier Optimizado**</font> "
   ]
  },
  {
   "cell_type": "code",
   "execution_count": 38,
   "metadata": {},
   "outputs": [],
   "source": [
    "RF_Opt = RandomForestClassifier( n_estimators=644,min_samples_split=10,min_samples_leaf=1,max_features='sqrt',max_depth=None,bootstrap=True)"
   ]
  },
  {
   "cell_type": "code",
   "execution_count": 39,
   "metadata": {},
   "outputs": [],
   "source": [
    "RF_Opt.fit(xtrain, ytrain)\n",
    "y_train_pred = RF_Opt.predict(xtrain)\n",
    "y_test_pred = RF_Opt.predict(xtest)"
   ]
  },
  {
   "cell_type": "code",
   "execution_count": 40,
   "metadata": {},
   "outputs": [
    {
     "name": "stdout",
     "output_type": "stream",
     "text": [
      "Accurancy Forest Optimizado (train):  0.6795\n",
      "Accurancy Forest Optimizado (test):  0.388\n"
     ]
    }
   ],
   "source": [
    "print(\"Accurancy Forest Optimizado (train): \",RF_Opt.score(xtrain,ytrain))\n",
    "print(\"Accurancy Forest Optimizado (test): \",RF_Opt.score(xtest,ytest))"
   ]
  },
  {
   "cell_type": "markdown",
   "metadata": {},
   "source": [
    "<font color=00777>______________**Graficación de las palabras que está usando el modelo para predecir, la importancia de las features**</font> "
   ]
  },
  {
   "cell_type": "code",
   "execution_count": 195,
   "metadata": {},
   "outputs": [
    {
     "data": {
      "image/png": "[encoded data removed]",
      "text/plain": [
       "<Figure size 1080x576 with 1 Axes>"
      ]
     },
     "metadata": {},
     "output_type": "display_data"
    },
    {
     "name": "stdout",
     "output_type": "stream",
     "text": [
      "IMPORTACIA DE LAS PALABRAS CON LAS QUE PREDICE EL MODELO\n"
     ]
    }
   ],
   "source": [
    "# Le preguntamos la importancia de cada feature (cada palabra)\n",
    "importances = RF_Opt.feature_importances_\n",
    "# Tomamos la lista de palabras\n",
    "all_words = cou_vec.get_feature_names()\n",
    "columns = all_words\n",
    "\n",
    "# Ordenamos por importnacia y tomamos las 20 primeras\n",
    "indices = np.argsort(importances)[::-1]\n",
    "indices = indices[:20]\n",
    "selected_columns = [columns[i] for i in indices]\n",
    "selected_importances = importances[indices]\n",
    "\n",
    "# Por ultimo graficamos\n",
    "plt.figure(figsize = (15,8))\n",
    "\n",
    "ax=sns.barplot(selected_columns, selected_importances)\n",
    "xlabels=selected_columns\n",
    "ax.set_xticklabels(xlabels, rotation=45, ha='right')\n",
    "plt.show()\n",
    "print('IMPORTACIA DE LAS PALABRAS CON LAS QUE PREDICE EL MODELO')\n",
    "\n",
    "\n",
    "\n"
   ]
  },
  {
   "cell_type": "markdown",
   "metadata": {},
   "source": [
    "<font color=00777>\n",
    "\n",
    "# C - Investigación"
   ]
  },
  {
   "cell_type": "markdown",
   "metadata": {},
   "source": [
    "<font color=00777>______________**Evaluación de los resultados y propuesta de mejora**</font> \n",
    "+ El modelo Random Forest Classifier resultó más eficiente que Naive Bayes, pero aún optimizado sólo pudo mejorar su rendimiento en test en 3 cententésimas. \n",
    "+ Se propone probar si tendrá mejor rendimiento en un dataset binario.\n",
    "+ Haciendo foco en este problema en particular sería mucho más útil, la información que se tendría serviría para dividir el universo de clientes entre los que están satisfechos y los que no,con más certeza. \n",
    "+ Permitiría iniciar acciones para mitigar los daños en la relación con el cliente insatisfecho y fidelizar del satisfecho.\n",
    "+ Una campaña de esta naturaleza tendría que basarse en un resultado del modelo más acertivo.\n",
    "\n"
   ]
  },
  {
   "cell_type": "markdown",
   "metadata": {},
   "source": [
    "<font color=00777>______________**Creación del dataset binario**</font> \n",
    "+ Se usará nuevamente el dataset para desarrollo.\n",
    "+ Se unificarán los valores de 1 y 2 estrellas como Experiencia Negativa y los de 4 y 5 como Experiencia Positiva.\n",
    "+ Se eliminarán los valores de 3 estrellas porque no aportan en este análisis."
   ]
  },
  {
   "cell_type": "code",
   "execution_count": 51,
   "metadata": {},
   "outputs": [],
   "source": [
    "datasetBinario = pd.read_json('dataset_es_dev.json', lines= True)"
   ]
  },
  {
   "cell_type": "code",
   "execution_count": 52,
   "metadata": {},
   "outputs": [],
   "source": [
    "datasetBinario = datasetBinario.drop(datasetBinario[datasetBinario['stars']==3].index)"
   ]
  },
  {
   "cell_type": "code",
   "execution_count": 53,
   "metadata": {},
   "outputs": [],
   "source": [
    "datasetBinario['stars']=datasetBinario['stars'].replace(1,0)\n",
    "datasetBinario['stars']=datasetBinario['stars'].replace(2,0)\n",
    "datasetBinario['stars']=datasetBinario['stars'].replace(4,1)\n",
    "datasetBinario['stars']=datasetBinario['stars'].replace(5,1)"
   ]
  },
  {
   "cell_type": "code",
   "execution_count": 54,
   "metadata": {},
   "outputs": [
    {
     "data": {
      "image/png": "[encoded data removed]",
      "text/plain": [
       "<Figure size 432x288 with 1 Axes>"
      ]
     },
     "metadata": {},
     "output_type": "display_data"
    }
   ],
   "source": [
    "sns.countplot(datasetBinario.stars)\n",
    "plt.show()"
   ]
  },
  {
   "cell_type": "markdown",
   "metadata": {},
   "source": [
    "<font color=00777>______________**Flujo de trabajo**</font> \n",
    "+ Se procederá con los mismos pasos que se resolvió para el dataset de 1 a 5 estrellas."
   ]
  },
  {
   "cell_type": "code",
   "execution_count": 55,
   "metadata": {},
   "outputs": [],
   "source": [
    "from nltk.corpus import wordnet\n",
    "\n",
    "def get_wordnet_pos(word):\n",
    "    \"\"\"Map POS tag to first character lemmatize() accepts\"\"\"\n",
    "    tag = nltk.pos_tag([word])[0][1][0].upper()\n",
    "    tag_dict = {\"J\": wordnet.ADJ,\n",
    "                \"N\": wordnet.NOUN,\n",
    "                \"V\": wordnet.VERB,\n",
    "                \"R\": wordnet.ADV}\n",
    "\n",
    "    return tag_dict.get(tag, wordnet.NOUN)"
   ]
  },
  {
   "cell_type": "code",
   "execution_count": 60,
   "metadata": {},
   "outputs": [],
   "source": [
    "# Importamos el lemmatizar de NLTK, y creamos el objeto\n",
    "from nltk.stem import WordNetLemmatizer\n",
    "wordnet_lemmatizer = WordNetLemmatizer()\n",
    "\n",
    "# Importamos esta libreria que nos permite reemplazar caracteres\n",
    "import re\n",
    "\n",
    "datasetBinario = pd.concat([datasetBinario.review_title,datasetBinario.stars],axis=1)\n",
    "datasetBinario.dropna(axis=0,inplace=True)\n",
    "\n",
    "# Traemos nuevamente las stopwords\n",
    "stopwords = nltk.corpus.stopwords.words('spanish')\n",
    "stopwords.remove('no')"
   ]
  },
  {
   "cell_type": "code",
   "execution_count": 61,
   "metadata": {},
   "outputs": [],
   "source": [
    "Titulos_list=[]\n",
    "for Titulos in datasetBinario.review_title:\n",
    "    # Vamos a reemplazar los caracteres que no sean letras por espacios\n",
    "    Titulos=re.sub(\"[^a-zA-Z]\",\" \",str(Titulos))\n",
    "    # Pasamos todo a minúsculas\n",
    "    Titulos=Titulos.lower()\n",
    "    # Tokenizamos para separar las palabras\n",
    "    Titulos=nltk.word_tokenize(Titulos)\n",
    "    \n",
    "    # Aplicamos el Lemmatizer (Esto puede tardar un ratito)\n",
    "    frase_lemma = [wordnet_lemmatizer.lemmatize(w, get_wordnet_pos(w)) for w in Titulos]\n",
    "    \n",
    "    \n",
    "    #Eliminamos las palabras de menos de 2 letras\n",
    "    Titulos = [palabra for palabra in Titulos if len(palabra)>1]\n",
    "    # Sacamos las Stopwords\n",
    "    Titulos = [palabra for palabra in Titulos if not palabra in stopwords]\n",
    "    \n",
    "    # Por ultimo volvemos a unir el titular\n",
    "    Titulos =\" \".join(Titulos)\n",
    "    Titulos_list.append(Titulos)"
   ]
  },
  {
   "cell_type": "code",
   "execution_count": 62,
   "metadata": {},
   "outputs": [
    {
     "data": {
      "text/html": [
       "<div>\n",
       "<style scoped>\n",
       "    .dataframe tbody tr th:only-of-type {\n",
       "        vertical-align: middle;\n",
       "    }\n",
       "\n",
       "    .dataframe tbody tr th {\n",
       "        vertical-align: top;\n",
       "    }\n",
       "\n",
       "    .dataframe thead th {\n",
       "        text-align: right;\n",
       "    }\n",
       "</style>\n",
       "<table border=\"1\" class=\"dataframe\">\n",
       "  <thead>\n",
       "    <tr style=\"text-align: right;\">\n",
       "      <th></th>\n",
       "      <th>review_title</th>\n",
       "      <th>stars</th>\n",
       "      <th>titular_lemm</th>\n",
       "    </tr>\n",
       "  </thead>\n",
       "  <tbody>\n",
       "    <tr>\n",
       "      <th>4995</th>\n",
       "      <td>guadalupe</td>\n",
       "      <td>1</td>\n",
       "      <td>guadalupe</td>\n",
       "    </tr>\n",
       "    <tr>\n",
       "      <th>4996</th>\n",
       "      <td>calidad precio</td>\n",
       "      <td>1</td>\n",
       "      <td>calidad precio</td>\n",
       "    </tr>\n",
       "    <tr>\n",
       "      <th>4997</th>\n",
       "      <td>Excelente</td>\n",
       "      <td>1</td>\n",
       "      <td>excelente</td>\n",
       "    </tr>\n",
       "    <tr>\n",
       "      <th>4998</th>\n",
       "      <td>Genial</td>\n",
       "      <td>1</td>\n",
       "      <td>genial</td>\n",
       "    </tr>\n",
       "    <tr>\n",
       "      <th>4999</th>\n",
       "      <td>Buena calidad</td>\n",
       "      <td>1</td>\n",
       "      <td>buena calidad</td>\n",
       "    </tr>\n",
       "  </tbody>\n",
       "</table>\n",
       "</div>"
      ],
      "text/plain": [
       "        review_title  stars    titular_lemm\n",
       "4995       guadalupe      1       guadalupe\n",
       "4996  calidad precio      1  calidad precio\n",
       "4997       Excelente      1       excelente\n",
       "4998          Genial      1          genial\n",
       "4999   Buena calidad      1   buena calidad"
      ]
     },
     "execution_count": 62,
     "metadata": {},
     "output_type": "execute_result"
    }
   ],
   "source": [
    "datasetBinario[\"titular_lemm\"] = Titulos_list\n",
    "datasetBinario.tail()"
   ]
  },
  {
   "cell_type": "code",
   "execution_count": 64,
   "metadata": {},
   "outputs": [
    {
     "data": {
      "text/html": [
       "<div>\n",
       "<style scoped>\n",
       "    .dataframe tbody tr th:only-of-type {\n",
       "        vertical-align: middle;\n",
       "    }\n",
       "\n",
       "    .dataframe tbody tr th {\n",
       "        vertical-align: top;\n",
       "    }\n",
       "\n",
       "    .dataframe thead th {\n",
       "        text-align: right;\n",
       "    }\n",
       "</style>\n",
       "<table border=\"1\" class=\"dataframe\">\n",
       "  <thead>\n",
       "    <tr style=\"text-align: right;\">\n",
       "      <th></th>\n",
       "      <th>titular_lemm</th>\n",
       "      <th>stars</th>\n",
       "    </tr>\n",
       "  </thead>\n",
       "  <tbody>\n",
       "    <tr>\n",
       "      <th>4995</th>\n",
       "      <td>guadalupe</td>\n",
       "      <td>1</td>\n",
       "    </tr>\n",
       "    <tr>\n",
       "      <th>4996</th>\n",
       "      <td>calidad precio</td>\n",
       "      <td>1</td>\n",
       "    </tr>\n",
       "    <tr>\n",
       "      <th>4997</th>\n",
       "      <td>excelente</td>\n",
       "      <td>1</td>\n",
       "    </tr>\n",
       "    <tr>\n",
       "      <th>4998</th>\n",
       "      <td>genial</td>\n",
       "      <td>1</td>\n",
       "    </tr>\n",
       "    <tr>\n",
       "      <th>4999</th>\n",
       "      <td>buena calidad</td>\n",
       "      <td>1</td>\n",
       "    </tr>\n",
       "  </tbody>\n",
       "</table>\n",
       "</div>"
      ],
      "text/plain": [
       "        titular_lemm  stars\n",
       "4995       guadalupe      1\n",
       "4996  calidad precio      1\n",
       "4997       excelente      1\n",
       "4998          genial      1\n",
       "4999   buena calidad      1"
      ]
     },
     "execution_count": 64,
     "metadata": {},
     "output_type": "execute_result"
    }
   ],
   "source": [
    "datasetBinario_lemm = pd.concat([datasetBinario.titular_lemm,datasetBinario.stars],axis=1)\n",
    "datasetBinario_lemm.dropna(axis=0,inplace=True)  # Por si quedaron titulares vacios\n",
    "datasetBinario_lemm.tail()"
   ]
  },
  {
   "cell_type": "code",
   "execution_count": 65,
   "metadata": {},
   "outputs": [],
   "source": [
    "# Tomamos la lista de palabras y el vector que nos dice la calificación\n",
    "\n",
    "list_titulos = list(datasetBinario_lemm['titular_lemm'].values)\n",
    "\n",
    "Stars = datasetBinario_lemm['stars'].values"
   ]
  },
  {
   "cell_type": "code",
   "execution_count": 66,
   "metadata": {},
   "outputs": [],
   "source": [
    "from sklearn.feature_extraction.text import CountVectorizer\n",
    "\n",
    "# Usaremos solo las 1000 palabras con mas frecuencia en todo el corpus para generar los vectores\n",
    "max_features=1000\n",
    "\n",
    "# Es decir que cada instancia tendrá 1000 features\n",
    "cou_vec=CountVectorizer(max_features=max_features, ngram_range=(1,2))"
   ]
  },
  {
   "cell_type": "code",
   "execution_count": 67,
   "metadata": {},
   "outputs": [
    {
     "name": "stdout",
     "output_type": "stream",
     "text": [
      "50 palabras mas usadas:  ['abierta', 'abriga', 'aburrido', 'acabado', 'acabados', 'aceptable', 'acorde', 'adapta', 'adapta bien', 'adaptador', 'adecuado', 'ado', 'agua', 'aguanta', 'agujeros', 'ahora', 'ajusta', 'ajuste', 'alivia', 'amazon', 'amazon no', 'an', 'ana', 'antena', 'antonio', 'anunciado', 'apropiado', 'apto', 'apuro', 'ar', 'aroma', 'art', 'art culo', 'articulo', 'as', 'atrasa', 'aun', 'aunque', 'auriculares', 'ayuda', 'azul', 'ba', 'baja', 'baja calidad', 'bandeja', 'barata', 'barato', 'barato sale', 'baratos', 'barra']\n"
     ]
    }
   ],
   "source": [
    "matriz_titulos = cou_vec.fit_transform(list_titulos)\n",
    "\n",
    "# Tomamos las palabras\n",
    "all_words = cou_vec.get_feature_names()\n",
    "\n",
    "# Vizualizamos las 50 palabras mas usadas\n",
    "print(\"50 palabras mas usadas: \",all_words[0:50])"
   ]
  },
  {
   "cell_type": "code",
   "execution_count": 68,
   "metadata": {},
   "outputs": [
    {
     "name": "stdout",
     "output_type": "stream",
     "text": [
      "Train/Test Set Sizes :  (3200, 1000) (800, 1000) (3200,) (800,)\n"
     ]
    }
   ],
   "source": [
    "x = matriz_titulos.toarray()\n",
    "y = Stars\n",
    "\n",
    "from sklearn.model_selection import train_test_split\n",
    "xtrain, xtest, ytrain, ytest = train_test_split(x,y,test_size=0.2,random_state=42,stratify=y)\n",
    "print('Train/Test Set Sizes : ',xtrain.shape, xtest.shape, ytrain.shape, ytest.shape)"
   ]
  },
  {
   "cell_type": "code",
   "execution_count": 69,
   "metadata": {},
   "outputs": [
    {
     "name": "stdout",
     "output_type": "stream",
     "text": [
      "Accurancy Random Forest en Dataset Binario (test):  0.8225\n",
      "Accurancy Random Forest en Dataset Binario (train):  0.906875\n"
     ]
    }
   ],
   "source": [
    "from sklearn.ensemble import RandomForestClassifier\n",
    "from sklearn.metrics import confusion_matrix\n",
    "\n",
    "rfBinario = RandomForestClassifier()\n",
    "rfBinario.fit(xtrain,ytrain)\n",
    "print(\"Accurancy Random Forest en Dataset Binario (test): \",rfBinario.score(xtest,ytest))\n",
    "print(\"Accurancy Random Forest en Dataset Binario (train): \",rfBinario.score(xtrain,ytrain))"
   ]
  },
  {
   "cell_type": "markdown",
   "metadata": {},
   "source": [
    "<font color=00777>______________**Evaluación de resultados con el dataset Binario**</font> \n",
    "+ El resultado es satisfactorio porque el rendimiento del modelo mejoró su Accurancy en test de 0.388 a 0.8225."
   ]
  },
  {
   "cell_type": "markdown",
   "metadata": {},
   "source": [
    "<font color=00777>______________**Flujo de trabajo con dataset de training de 200000 instancias**</font> \n",
    "+ Por lo tanto se volverá a ejecutar el mismo flujo de trabajo sobre el dataset de training con 200000 instancias, para aprovechar un entrenamiento con un dataset de mayor tamaño y obtener mejores resultados."
   ]
  },
  {
   "cell_type": "code",
   "execution_count": 71,
   "metadata": {},
   "outputs": [],
   "source": [
    "datasetFinal = pd.read_json('dataset_es_train.json', lines= True)"
   ]
  },
  {
   "cell_type": "code",
   "execution_count": 72,
   "metadata": {},
   "outputs": [],
   "source": [
    "datasetFinal = datasetFinal.drop(datasetFinal[datasetFinal['stars']==3].index)"
   ]
  },
  {
   "cell_type": "code",
   "execution_count": 73,
   "metadata": {},
   "outputs": [],
   "source": [
    "datasetFinal['stars']=datasetFinal['stars'].replace(1,0)\n",
    "datasetFinal['stars']=datasetFinal['stars'].replace(2,0)\n",
    "datasetFinal['stars']=datasetFinal['stars'].replace(4,1)\n",
    "datasetFinal['stars']=datasetFinal['stars'].replace(5,1)"
   ]
  },
  {
   "cell_type": "code",
   "execution_count": 74,
   "metadata": {},
   "outputs": [
    {
     "data": {
      "image/png": "[encoded data removed]",
      "text/plain": [
       "<Figure size 432x288 with 1 Axes>"
      ]
     },
     "metadata": {},
     "output_type": "display_data"
    }
   ],
   "source": [
    "sns.countplot(datasetBinario.stars)\n",
    "plt.show()"
   ]
  },
  {
   "cell_type": "code",
   "execution_count": 75,
   "metadata": {},
   "outputs": [],
   "source": [
    "from nltk.corpus import wordnet\n",
    "\n",
    "def get_wordnet_pos(word):\n",
    "    \"\"\"Map POS tag to first character lemmatize() accepts\"\"\"\n",
    "    tag = nltk.pos_tag([word])[0][1][0].upper()\n",
    "    tag_dict = {\"J\": wordnet.ADJ,\n",
    "                \"N\": wordnet.NOUN,\n",
    "                \"V\": wordnet.VERB,\n",
    "                \"R\": wordnet.ADV}\n",
    "\n",
    "    return tag_dict.get(tag, wordnet.NOUN)"
   ]
  },
  {
   "cell_type": "code",
   "execution_count": 76,
   "metadata": {},
   "outputs": [],
   "source": [
    "# Importamos el lemmatizar de NLTK, y creamos el objeto\n",
    "from nltk.stem import WordNetLemmatizer\n",
    "wordnet_lemmatizer = WordNetLemmatizer()\n",
    "\n",
    "# Importamos esta libreria que nos permite reemplazar caracteres\n",
    "import re\n",
    "\n",
    "datasetFinal = pd.concat([datasetFinal.review_title,datasetFinal.stars],axis=1)\n",
    "datasetFinal.dropna(axis=0,inplace=True)\n",
    "\n",
    "# Traemos nuevamente las stopwords\n",
    "stopwords = nltk.corpus.stopwords.words('spanish')\n",
    "stopwords.remove('no')"
   ]
  },
  {
   "cell_type": "code",
   "execution_count": 77,
   "metadata": {},
   "outputs": [],
   "source": [
    "Titulos_list=[]\n",
    "for Titulos in datasetFinal.review_title:\n",
    "    # Vamos a reemplazar los caracteres que no sean letras por espacios\n",
    "    Titulos=re.sub(\"[^a-zA-Z]\",\" \",str(Titulos))\n",
    "    # Pasamos todo a minúsculas\n",
    "    Titulos=Titulos.lower()\n",
    "    # Tokenizamos para separar las palabras\n",
    "    Titulos=nltk.word_tokenize(Titulos)\n",
    "    \n",
    "    # Aplicamos el Lemmatizer (Esto puede tardar un ratito)\n",
    "    frase_lemma = [wordnet_lemmatizer.lemmatize(w, get_wordnet_pos(w)) for w in Titulos]\n",
    "    \n",
    "    \n",
    "    #Eliminamos las palabras de 1 letra\n",
    "    Titulos = [palabra for palabra in Titulos if len(palabra)>1]\n",
    "    # Sacamos las Stopwords\n",
    "    Titulos = [palabra for palabra in Titulos if not palabra in stopwords]\n",
    "    \n",
    "    # Por ultimo volvemos a unir el titular\n",
    "    Titulos =\" \".join(Titulos)\n",
    "    Titulos_list.append(Titulos)"
   ]
  },
  {
   "cell_type": "code",
   "execution_count": 78,
   "metadata": {},
   "outputs": [
    {
     "data": {
      "text/html": [
       "<div>\n",
       "<style scoped>\n",
       "    .dataframe tbody tr th:only-of-type {\n",
       "        vertical-align: middle;\n",
       "    }\n",
       "\n",
       "    .dataframe tbody tr th {\n",
       "        vertical-align: top;\n",
       "    }\n",
       "\n",
       "    .dataframe thead th {\n",
       "        text-align: right;\n",
       "    }\n",
       "</style>\n",
       "<table border=\"1\" class=\"dataframe\">\n",
       "  <thead>\n",
       "    <tr style=\"text-align: right;\">\n",
       "      <th></th>\n",
       "      <th>review_title</th>\n",
       "      <th>stars</th>\n",
       "      <th>titular_lemm</th>\n",
       "    </tr>\n",
       "  </thead>\n",
       "  <tbody>\n",
       "    <tr>\n",
       "      <th>199995</th>\n",
       "      <td>Tal y como se describe</td>\n",
       "      <td>1</td>\n",
       "      <td>tal describe</td>\n",
       "    </tr>\n",
       "    <tr>\n",
       "      <th>199996</th>\n",
       "      <td>Funciona perfectamente</td>\n",
       "      <td>1</td>\n",
       "      <td>funciona perfectamente</td>\n",
       "    </tr>\n",
       "    <tr>\n",
       "      <th>199997</th>\n",
       "      <td>Buena calidad.</td>\n",
       "      <td>1</td>\n",
       "      <td>buena calidad</td>\n",
       "    </tr>\n",
       "    <tr>\n",
       "      <th>199998</th>\n",
       "      <td>Recomendado</td>\n",
       "      <td>1</td>\n",
       "      <td>recomendado</td>\n",
       "    </tr>\n",
       "    <tr>\n",
       "      <th>199999</th>\n",
       "      <td>Preciosas</td>\n",
       "      <td>1</td>\n",
       "      <td>preciosas</td>\n",
       "    </tr>\n",
       "  </tbody>\n",
       "</table>\n",
       "</div>"
      ],
      "text/plain": [
       "                  review_title  stars            titular_lemm\n",
       "199995  Tal y como se describe      1            tal describe\n",
       "199996  Funciona perfectamente      1  funciona perfectamente\n",
       "199997          Buena calidad.      1           buena calidad\n",
       "199998             Recomendado      1             recomendado\n",
       "199999               Preciosas      1               preciosas"
      ]
     },
     "execution_count": 78,
     "metadata": {},
     "output_type": "execute_result"
    }
   ],
   "source": [
    "datasetFinal[\"titular_lemm\"] = Titulos_list\n",
    "datasetFinal.tail()"
   ]
  },
  {
   "cell_type": "code",
   "execution_count": 79,
   "metadata": {},
   "outputs": [
    {
     "data": {
      "text/html": [
       "<div>\n",
       "<style scoped>\n",
       "    .dataframe tbody tr th:only-of-type {\n",
       "        vertical-align: middle;\n",
       "    }\n",
       "\n",
       "    .dataframe tbody tr th {\n",
       "        vertical-align: top;\n",
       "    }\n",
       "\n",
       "    .dataframe thead th {\n",
       "        text-align: right;\n",
       "    }\n",
       "</style>\n",
       "<table border=\"1\" class=\"dataframe\">\n",
       "  <thead>\n",
       "    <tr style=\"text-align: right;\">\n",
       "      <th></th>\n",
       "      <th>titular_lemm</th>\n",
       "      <th>stars</th>\n",
       "    </tr>\n",
       "  </thead>\n",
       "  <tbody>\n",
       "    <tr>\n",
       "      <th>199995</th>\n",
       "      <td>tal describe</td>\n",
       "      <td>1</td>\n",
       "    </tr>\n",
       "    <tr>\n",
       "      <th>199996</th>\n",
       "      <td>funciona perfectamente</td>\n",
       "      <td>1</td>\n",
       "    </tr>\n",
       "    <tr>\n",
       "      <th>199997</th>\n",
       "      <td>buena calidad</td>\n",
       "      <td>1</td>\n",
       "    </tr>\n",
       "    <tr>\n",
       "      <th>199998</th>\n",
       "      <td>recomendado</td>\n",
       "      <td>1</td>\n",
       "    </tr>\n",
       "    <tr>\n",
       "      <th>199999</th>\n",
       "      <td>preciosas</td>\n",
       "      <td>1</td>\n",
       "    </tr>\n",
       "  </tbody>\n",
       "</table>\n",
       "</div>"
      ],
      "text/plain": [
       "                  titular_lemm  stars\n",
       "199995            tal describe      1\n",
       "199996  funciona perfectamente      1\n",
       "199997           buena calidad      1\n",
       "199998             recomendado      1\n",
       "199999               preciosas      1"
      ]
     },
     "execution_count": 79,
     "metadata": {},
     "output_type": "execute_result"
    }
   ],
   "source": [
    "datasetFinal_lemm = pd.concat([datasetFinal.titular_lemm,datasetFinal.stars],axis=1)\n",
    "datasetFinal_lemm.dropna(axis=0,inplace=True)  # Por si quedaron titulares vacios\n",
    "datasetFinal_lemm.tail()"
   ]
  },
  {
   "cell_type": "code",
   "execution_count": 80,
   "metadata": {},
   "outputs": [],
   "source": [
    "# Tomamos la lista de palabras y el vector que nos dice la calificación\n",
    "\n",
    "list_titulos = list(datasetFinal_lemm['titular_lemm'].values)\n",
    "\n",
    "Stars = datasetFinal_lemm['stars'].values"
   ]
  },
  {
   "cell_type": "code",
   "execution_count": 81,
   "metadata": {},
   "outputs": [],
   "source": [
    "from sklearn.feature_extraction.text import CountVectorizer\n",
    "\n",
    "# Usaremos solo las 1000 palabras con mas frecuencia en todo el corpus para generar los vectores\n",
    "max_features=1000\n",
    "\n",
    "# Es decir que cada instancia tendrá 1000 features\n",
    "cou_vec=CountVectorizer(max_features=max_features, ngram_range=(1,2))"
   ]
  },
  {
   "cell_type": "code",
   "execution_count": 82,
   "metadata": {},
   "outputs": [
    {
     "name": "stdout",
     "output_type": "stream",
     "text": [
      "50 palabras mas usadas:  ['abierta', 'abierto', 'acabado', 'acabados', 'accesorios', 'aceite', 'aceptable', 'acierto', 'aconsejable', 'aconsejo', 'acorde', 'ada', 'adapta', 'adaptador', 'adecuado', 'adhesivo', 'ado', 'agradable', 'agua', 'aguanta', 'ahora', 'aire', 'ajusta', 'ajusta bien', 'ajuste', 'alta', 'altavoz', 'alto', 'amazon', 'an', 'ana', 'antonio', 'anunciado', 'anuncio', 'aparato', 'apenas', 'apto', 'art', 'art culo', 'articulo', 'as', 'aspecto', 'atenci', 'atenci cliente', 'audio', 'aun', 'aunque', 'auriculares', 'ayuda', 'ba']\n"
     ]
    }
   ],
   "source": [
    "matriz_titulos = cou_vec.fit_transform(list_titulos)\n",
    "\n",
    "# Tomamos las palabras\n",
    "all_words = cou_vec.get_feature_names()\n",
    "\n",
    "# Vizualizamos las 50 palabras mas usadas\n",
    "print(\"50 palabras mas usadas: \",all_words[0:50])"
   ]
  },
  {
   "cell_type": "code",
   "execution_count": 83,
   "metadata": {},
   "outputs": [
    {
     "name": "stdout",
     "output_type": "stream",
     "text": [
      "Train/Test Set Sizes :  (128000, 1000) (32000, 1000) (128000,) (32000,)\n"
     ]
    }
   ],
   "source": [
    "x = matriz_titulos.toarray()\n",
    "y = Stars\n",
    "\n",
    "from sklearn.model_selection import train_test_split\n",
    "xtrain, xtest, ytrain, ytest = train_test_split(x,y,test_size=0.2,random_state=42,stratify=y)\n",
    "print('Train/Test Set Sizes : ',xtrain.shape, xtest.shape, ytrain.shape, ytest.shape)"
   ]
  },
  {
   "cell_type": "code",
   "execution_count": 85,
   "metadata": {},
   "outputs": [
    {
     "data": {
      "text/plain": [
       "RandomForestClassifier()"
      ]
     },
     "execution_count": 85,
     "metadata": {},
     "output_type": "execute_result"
    }
   ],
   "source": [
    "from sklearn.ensemble import RandomForestClassifier\n",
    "from sklearn.metrics import confusion_matrix\n",
    "\n",
    "rfFinal = RandomForestClassifier()\n",
    "rfFinal.fit(xtrain,ytrain)"
   ]
  },
  {
   "cell_type": "code",
   "execution_count": 86,
   "metadata": {},
   "outputs": [
    {
     "name": "stdout",
     "output_type": "stream",
     "text": [
      "Accurancy Random Forest en Dataset Binario Final (test):  0.83940625\n",
      "Accurancy Random Forest en Dataset Binario Final (train):  0.8729375\n"
     ]
    }
   ],
   "source": [
    "print(\"Accurancy Random Forest en Dataset Binario Final (test): \",rfFinal.score(xtest,ytest))\n",
    "print(\"Accurancy Random Forest en Dataset Binario Final (train): \",rfFinal.score(xtrain,ytrain))"
   ]
  },
  {
   "cell_type": "code",
   "execution_count": 87,
   "metadata": {},
   "outputs": [],
   "source": [
    "from sklearn.model_selection import RandomizedSearchCV\n",
    "# Number of trees in random forest\n",
    "n_estimators = [int(x) for x in np.linspace(start = 100, stop = 800, num = 10)]\n",
    "# Number of features to consider at every split\n",
    "max_features = ['auto', 'sqrt']\n",
    "# Maximum number of levels in tree\n",
    "max_depth = [int(x) for x in np.linspace(2, 5, num = 11)]\n",
    "max_depth.append(None)\n",
    "# Minimum number of samples required to split a node\n",
    "min_samples_split = [2, 5, 10]\n",
    "# Minimum number of samples required at each leaf node\n",
    "min_samples_leaf = [1, 2, 4]\n",
    "# Method of selecting samples for training each tree\n",
    "bootstrap = [True, False]\n",
    "# Create the random grid\n",
    "random_grid = {'n_estimators': n_estimators,\n",
    "               'max_features': max_features,\n",
    "               'max_depth': max_depth,\n",
    "               'min_samples_split': min_samples_split,\n",
    "               'min_samples_leaf': min_samples_leaf,\n",
    "               'bootstrap': bootstrap}"
   ]
  },
  {
   "cell_type": "code",
   "execution_count": 88,
   "metadata": {},
   "outputs": [],
   "source": [
    "x = matriz_titulos.toarray()\n",
    "y = Stars\n",
    "\n",
    "from sklearn.model_selection import train_test_split\n",
    "xtrain, xtest, ytrain, ytest = train_test_split(x,y,test_size=0.2,random_state=42,stratify=y)"
   ]
  },
  {
   "cell_type": "code",
   "execution_count": 89,
   "metadata": {},
   "outputs": [
    {
     "name": "stdout",
     "output_type": "stream",
     "text": [
      "Fitting 3 folds for each of 100 candidates, totalling 300 fits\n"
     ]
    },
    {
     "name": "stderr",
     "output_type": "stream",
     "text": [
      "[Parallel(n_jobs=-1)]: Using backend LokyBackend with 8 concurrent workers.\n",
      "[Parallel(n_jobs=-1)]: Done  25 tasks      | elapsed:  7.6min\n",
      "[Parallel(n_jobs=-1)]: Done 146 tasks      | elapsed: 127.7min\n",
      "[Parallel(n_jobs=-1)]: Done 300 out of 300 | elapsed: 1200.3min finished\n"
     ]
    },
    {
     "data": {
      "text/plain": [
       "{'n_estimators': 644,\n",
       " 'min_samples_split': 10,\n",
       " 'min_samples_leaf': 1,\n",
       " 'max_features': 'sqrt',\n",
       " 'max_depth': None,\n",
       " 'bootstrap': True}"
      ]
     },
     "execution_count": 89,
     "metadata": {},
     "output_type": "execute_result"
    }
   ],
   "source": [
    "# Use the random grid to search for best hyperparameters\n",
    "# First create the base model to tune\n",
    "rf = RandomForestClassifier()\n",
    "# Random search of parameters, using 3 fold cross validation, \n",
    "# search across 100 different combinations, and use all available cores\n",
    "rf_random = RandomizedSearchCV(estimator = rf, param_distributions = random_grid, n_iter = 100, cv = 3, verbose=2, random_state=42, n_jobs = -1)\n",
    "# Fit the random search model\n",
    "rf_random.fit(xtrain, ytrain)\n",
    "rf_random.best_params_"
   ]
  },
  {
   "cell_type": "markdown",
   "metadata": {},
   "source": [
    "<font color=00777>______________**Mejores parámetros para Random Forest Classifier en dataset Binario con Dataset de training**</font> \n",
    "\n",
    "+ n_estimators: 644\n",
    "+ min_samples_split: 10\n",
    "+ min_samples_leaf: 1\n",
    "+ max_features: sqrt\n",
    "+ max_depth: None\n",
    "+ bootstrap: True"
   ]
  },
  {
   "cell_type": "markdown",
   "metadata": {},
   "source": [
    "<font color=00777>______________**Random Forest Classifier Optimizado en dataset Binario con dataset de training**</font> \n"
   ]
  },
  {
   "cell_type": "code",
   "execution_count": 91,
   "metadata": {},
   "outputs": [],
   "source": [
    "RF_Binario_Opt = RandomForestClassifier( n_estimators=644,min_samples_split=10,min_samples_leaf=1,max_features='sqrt',max_depth=None,bootstrap=True)"
   ]
  },
  {
   "cell_type": "code",
   "execution_count": 92,
   "metadata": {},
   "outputs": [],
   "source": [
    "RF_Binario_Opt.fit(xtrain, ytrain)\n",
    "y_train_pred = RF_Binario_Opt.predict(xtrain)\n",
    "y_test_pred = RF_Binario_Opt.predict(xtest)"
   ]
  },
  {
   "cell_type": "code",
   "execution_count": 94,
   "metadata": {},
   "outputs": [
    {
     "name": "stdout",
     "output_type": "stream",
     "text": [
      "Accurancy Random Forest con Dataset Binario Optimizado (test):  0.8410625\n",
      "Accurancy Random Forest con Dataset Binario Optimizado (train):  0.8687265625\n"
     ]
    }
   ],
   "source": [
    "print(\"Accurancy Random Forest con Dataset Binario Optimizado (test): \",RF_Binario_Opt.score(xtest,ytest))\n",
    "print(\"Accurancy Random Forest con Dataset Binario Optimizado (train): \",RF_Binario_Opt.score(xtrain,ytrain))"
   ]
  },
  {
   "cell_type": "markdown",
   "metadata": {},
   "source": [
    "<font color=00777>\n",
    "\n",
    "# Conclusiones y proyecto"
   ]
  },
  {
   "cell_type": "markdown",
   "metadata": {},
   "source": [
    "+ La conversión del problema a un dataset binario, resultó efectiva, los errores del modelo se concentraban en las categorías de 2 y 4 estrellas, al convertir el modelo se consolidó en los extremos.\n",
    "+ Se logró mejorar el Accurancy en test de 0,388 a 0,841 lo que representa una mejora considerable.\n",
    "+ El modelo es también más consistente ya que la diferencia en el Accurancy entre test y train es sólo 2 centésimas.\n",
    "+ Este resultado justificaría la inversión de usar el modelo para identificar el universo de clientes satisfechos y los que no y diseñar una acción de marketing en correspondencia."
   ]
  }
 ],
 "metadata": {
  "kernelspec": {
   "display_name": "Python 3",
   "language": "python",
   "name": "python3"
  },
  "language_info": {
   "codemirror_mode": {
    "name": "ipython",
    "version": 3
   },
   "file_extension": ".py",
   "mimetype": "text/x-python",
   "name": "python",
   "nbconvert_exporter": "python",
   "pygments_lexer": "ipython3",
   "version": "3.8.5"
  }
 },
 "nbformat": 4,
 "nbformat_minor": 4
}
